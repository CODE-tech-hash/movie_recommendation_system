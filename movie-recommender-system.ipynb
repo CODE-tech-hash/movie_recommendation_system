```python
#import libraries
import numpy as np  
import pandas as pd
```


```python
#import movie dataset files
movies = pd.read_csv('tmdb_5000_movies.csv')
credits = pd.read_csv('tmdb_5000_credits.csv')
```


```python
movies.head(1)
```




<div>
<style scoped>
    .dataframe tbody tr th:only-of-type {
        vertical-align: middle;
    }

    .dataframe tbody tr th {
        vertical-align: top;
    }

    .dataframe thead th {
        text-align: right;
    }
</style>
<table border="1" class="dataframe">
  <thead>
    <tr style="text-align: right;">
      <th></th>
      <th>budget</th>
      <th>genres</th>
      <th>homepage</th>
      <th>id</th>
      <th>keywords</th>
      <th>original_language</th>
      <th>original_title</th>
      <th>overview</th>
      <th>popularity</th>
      <th>production_companies</th>
      <th>production_countries</th>
      <th>release_date</th>
      <th>revenue</th>
      <th>runtime</th>
      <th>spoken_languages</th>
      <th>status</th>
      <th>tagline</th>
      <th>title</th>
      <th>vote_average</th>
      <th>vote_count</th>
    </tr>
  </thead>
  <tbody>
    <tr>
      <th>0</th>
      <td>237000000</td>
      <td>[{"id": 28, "name": "Action"}, {"id": 12, "nam...</td>
      <td>http://www.avatarmovie.com/</td>
      <td>19995</td>
      <td>[{"id": 1463, "name": "culture clash"}, {"id":...</td>
      <td>en</td>
      <td>Avatar</td>
      <td>In the 22nd century, a paraplegic Marine is di...</td>
      <td>150.437577</td>
      <td>[{"name": "Ingenious Film Partners", "id": 289...</td>
      <td>[{"iso_3166_1": "US", "name": "United States o...</td>
      <td>2009-12-10</td>
      <td>2787965087</td>
      <td>162.0</td>
      <td>[{"iso_639_1": "en", "name": "English"}, {"iso...</td>
      <td>Released</td>
      <td>Enter the World of Pandora.</td>
      <td>Avatar</td>
      <td>7.2</td>
      <td>11800</td>
    </tr>
  </tbody>
</table>
</div>




```python
credits.head(1) #credits.head(1)['cast'].values
```




<div>
<style scoped>
    .dataframe tbody tr th:only-of-type {
        vertical-align: middle;
    }

    .dataframe tbody tr th {
        vertical-align: top;
    }

    .dataframe thead th {
        text-align: right;
    }
</style>
<table border="1" class="dataframe">
  <thead>
    <tr style="text-align: right;">
      <th></th>
      <th>movie_id</th>
      <th>title</th>
      <th>cast</th>
      <th>crew</th>
    </tr>
  </thead>
  <tbody>
    <tr>
      <th>0</th>
      <td>19995</td>
      <td>Avatar</td>
      <td>[{"cast_id": 242, "character": "Jake Sully", "...</td>
      <td>[{"credit_id": "52fe48009251416c750aca23", "de...</td>
    </tr>
  </tbody>
</table>
</div>




```python
#merge both datasets
movies = movies.merge(credits, on = 'title') #.shape
```


```python
movies.head(1)
```




<div>
<style scoped>
    .dataframe tbody tr th:only-of-type {
        vertical-align: middle;
    }

    .dataframe tbody tr th {
        vertical-align: top;
    }

    .dataframe thead th {
        text-align: right;
    }
</style>
<table border="1" class="dataframe">
  <thead>
    <tr style="text-align: right;">
      <th></th>
      <th>budget</th>
      <th>genres</th>
      <th>homepage</th>
      <th>id</th>
      <th>keywords</th>
      <th>original_language</th>
      <th>original_title</th>
      <th>overview</th>
      <th>popularity</th>
      <th>production_companies</th>
      <th>...</th>
      <th>runtime</th>
      <th>spoken_languages</th>
      <th>status</th>
      <th>tagline</th>
      <th>title</th>
      <th>vote_average</th>
      <th>vote_count</th>
      <th>movie_id</th>
      <th>cast</th>
      <th>crew</th>
    </tr>
  </thead>
  <tbody>
    <tr>
      <th>0</th>
      <td>237000000</td>
      <td>[{"id": 28, "name": "Action"}, {"id": 12, "nam...</td>
      <td>http://www.avatarmovie.com/</td>
      <td>19995</td>
      <td>[{"id": 1463, "name": "culture clash"}, {"id":...</td>
      <td>en</td>
      <td>Avatar</td>
      <td>In the 22nd century, a paraplegic Marine is di...</td>
      <td>150.437577</td>
      <td>[{"name": "Ingenious Film Partners", "id": 289...</td>
      <td>...</td>
      <td>162.0</td>
      <td>[{"iso_639_1": "en", "name": "English"}, {"iso...</td>
      <td>Released</td>
      <td>Enter the World of Pandora.</td>
      <td>Avatar</td>
      <td>7.2</td>
      <td>11800</td>
      <td>19995</td>
      <td>[{"cast_id": 242, "character": "Jake Sully", "...</td>
      <td>[{"credit_id": "52fe48009251416c750aca23", "de...</td>
    </tr>
  </tbody>
</table>
<p>1 rows × 23 columns</p>
</div>




```python
movies.info()
```

    <class 'pandas.core.frame.DataFrame'>
    Int64Index: 4809 entries, 0 to 4808
    Data columns (total 23 columns):
     #   Column                Non-Null Count  Dtype  
    ---  ------                --------------  -----  
     0   budget                4809 non-null   int64  
     1   genres                4809 non-null   object 
     2   homepage              1713 non-null   object 
     3   id                    4809 non-null   int64  
     4   keywords              4809 non-null   object 
     5   original_language     4809 non-null   object 
     6   original_title        4809 non-null   object 
     7   overview              4806 non-null   object 
     8   popularity            4809 non-null   float64
     9   production_companies  4809 non-null   object 
     10  production_countries  4809 non-null   object 
     11  release_date          4808 non-null   object 
     12  revenue               4809 non-null   int64  
     13  runtime               4807 non-null   float64
     14  spoken_languages      4809 non-null   object 
     15  status                4809 non-null   object 
     16  tagline               3965 non-null   object 
     17  title                 4809 non-null   object 
     18  vote_average          4809 non-null   float64
     19  vote_count            4809 non-null   int64  
     20  movie_id              4809 non-null   int64  
     21  cast                  4809 non-null   object 
     22  crew                  4809 non-null   object 
    dtypes: float64(3), int64(5), object(15)
    memory usage: 901.7+ KB
    


```python
#filter movies by removing unncessary info / by gathering only useful info

#genres
#id
#keywords
#overview
#title
#cast
#crew

movies = movies[['genres','id','keywords','overview','title','cast','crew']]
```


```python
movies.head(1)
```




<div>
<style scoped>
    .dataframe tbody tr th:only-of-type {
        vertical-align: middle;
    }

    .dataframe tbody tr th {
        vertical-align: top;
    }

    .dataframe thead th {
        text-align: right;
    }
</style>
<table border="1" class="dataframe">
  <thead>
    <tr style="text-align: right;">
      <th></th>
      <th>genres</th>
      <th>id</th>
      <th>keywords</th>
      <th>overview</th>
      <th>title</th>
      <th>cast</th>
      <th>crew</th>
    </tr>
  </thead>
  <tbody>
    <tr>
      <th>0</th>
      <td>[{"id": 28, "name": "Action"}, {"id": 12, "nam...</td>
      <td>19995</td>
      <td>[{"id": 1463, "name": "culture clash"}, {"id":...</td>
      <td>In the 22nd century, a paraplegic Marine is di...</td>
      <td>Avatar</td>
      <td>[{"cast_id": 242, "character": "Jake Sully", "...</td>
      <td>[{"credit_id": "52fe48009251416c750aca23", "de...</td>
    </tr>
  </tbody>
</table>
</div>




```python
#drop missing data
movies.isnull().sum()
```




    genres      0
    id          0
    keywords    0
    overview    3
    title       0
    cast        0
    crew        0
    dtype: int64




```python
#drop missing data
movies.dropna(inplace=True)
```


```python
#movies dropped
movies.isnull().sum()
```




    genres      0
    id          0
    keywords    0
    overview    0
    title       0
    cast        0
    crew        0
    dtype: int64




```python
#drop duplicate data if present
movies.duplicated().sum()
```




    0




```python
movies.iloc[0].genres
```




    '[{"id": 28, "name": "Action"}, {"id": 12, "name": "Adventure"}, {"id": 14, "name": "Fantasy"}, {"id": 878, "name": "Science Fiction"}]'




```python
#convert this
#'[{"id": 28, "name": "Action"}, {"id": 12, "name": "Adventure"}, {"id": 14, "name": "Fantasy"}, {"id": 878, "name": "Science Fiction"}]'
#into
#['Action','Adventuree','Fantasy', 'Scific']
```


```python
#as its in string it cant be converted easily so use function ast
#example
import ast
ast.literal_eval('[{"id": 28, "name": "Action"}, {"id": 12, "name": "Adventure"}, {"id": 14, "name": "Fantasy"}, {"id": 878, "name": "Science Fiction"}]')
```




    [{'id': 28, 'name': 'Action'},
     {'id': 12, 'name': 'Adventure'},
     {'id': 14, 'name': 'Fantasy'},
     {'id': 878, 'name': 'Science Fiction'}]




```python
def convert(obj):
    L=[]
    for i in ast.literal_eval(obj):  #obj means {"id": 28, "name": "Action"}
        L.append(i['name']) #select name in that and add to list
    return L
```


```python
movies['genres'] = movies['genres'].apply(convert)
```


```python
movies.head()
```




<div>
<style scoped>
    .dataframe tbody tr th:only-of-type {
        vertical-align: middle;
    }

    .dataframe tbody tr th {
        vertical-align: top;
    }

    .dataframe thead th {
        text-align: right;
    }
</style>
<table border="1" class="dataframe">
  <thead>
    <tr style="text-align: right;">
      <th></th>
      <th>genres</th>
      <th>id</th>
      <th>keywords</th>
      <th>overview</th>
      <th>title</th>
      <th>cast</th>
      <th>crew</th>
    </tr>
  </thead>
  <tbody>
    <tr>
      <th>0</th>
      <td>[Action, Adventure, Fantasy, Science Fiction]</td>
      <td>19995</td>
      <td>[{"id": 1463, "name": "culture clash"}, {"id":...</td>
      <td>In the 22nd century, a paraplegic Marine is di...</td>
      <td>Avatar</td>
      <td>[{"cast_id": 242, "character": "Jake Sully", "...</td>
      <td>[{"credit_id": "52fe48009251416c750aca23", "de...</td>
    </tr>
    <tr>
      <th>1</th>
      <td>[Adventure, Fantasy, Action]</td>
      <td>285</td>
      <td>[{"id": 270, "name": "ocean"}, {"id": 726, "na...</td>
      <td>Captain Barbossa, long believed to be dead, ha...</td>
      <td>Pirates of the Caribbean: At World's End</td>
      <td>[{"cast_id": 4, "character": "Captain Jack Spa...</td>
      <td>[{"credit_id": "52fe4232c3a36847f800b579", "de...</td>
    </tr>
    <tr>
      <th>2</th>
      <td>[Action, Adventure, Crime]</td>
      <td>206647</td>
      <td>[{"id": 470, "name": "spy"}, {"id": 818, "name...</td>
      <td>A cryptic message from Bond’s past sends him o...</td>
      <td>Spectre</td>
      <td>[{"cast_id": 1, "character": "James Bond", "cr...</td>
      <td>[{"credit_id": "54805967c3a36829b5002c41", "de...</td>
    </tr>
    <tr>
      <th>3</th>
      <td>[Action, Crime, Drama, Thriller]</td>
      <td>49026</td>
      <td>[{"id": 849, "name": "dc comics"}, {"id": 853,...</td>
      <td>Following the death of District Attorney Harve...</td>
      <td>The Dark Knight Rises</td>
      <td>[{"cast_id": 2, "character": "Bruce Wayne / Ba...</td>
      <td>[{"credit_id": "52fe4781c3a36847f81398c3", "de...</td>
    </tr>
    <tr>
      <th>4</th>
      <td>[Action, Adventure, Science Fiction]</td>
      <td>49529</td>
      <td>[{"id": 818, "name": "based on novel"}, {"id":...</td>
      <td>John Carter is a war-weary, former military ca...</td>
      <td>John Carter</td>
      <td>[{"cast_id": 5, "character": "John Carter", "c...</td>
      <td>[{"credit_id": "52fe479ac3a36847f813eaa3", "de...</td>
    </tr>
  </tbody>
</table>
</div>




```python
#same for keywords
movies['keywords'] = movies['keywords'].apply(convert)
```


```python
movies.head()
```




<div>
<style scoped>
    .dataframe tbody tr th:only-of-type {
        vertical-align: middle;
    }

    .dataframe tbody tr th {
        vertical-align: top;
    }

    .dataframe thead th {
        text-align: right;
    }
</style>
<table border="1" class="dataframe">
  <thead>
    <tr style="text-align: right;">
      <th></th>
      <th>genres</th>
      <th>id</th>
      <th>keywords</th>
      <th>overview</th>
      <th>title</th>
      <th>cast</th>
      <th>crew</th>
    </tr>
  </thead>
  <tbody>
    <tr>
      <th>0</th>
      <td>[Action, Adventure, Fantasy, Science Fiction]</td>
      <td>19995</td>
      <td>[culture clash, future, space war, space colon...</td>
      <td>In the 22nd century, a paraplegic Marine is di...</td>
      <td>Avatar</td>
      <td>[{"cast_id": 242, "character": "Jake Sully", "...</td>
      <td>[{"credit_id": "52fe48009251416c750aca23", "de...</td>
    </tr>
    <tr>
      <th>1</th>
      <td>[Adventure, Fantasy, Action]</td>
      <td>285</td>
      <td>[ocean, drug abuse, exotic island, east india ...</td>
      <td>Captain Barbossa, long believed to be dead, ha...</td>
      <td>Pirates of the Caribbean: At World's End</td>
      <td>[{"cast_id": 4, "character": "Captain Jack Spa...</td>
      <td>[{"credit_id": "52fe4232c3a36847f800b579", "de...</td>
    </tr>
    <tr>
      <th>2</th>
      <td>[Action, Adventure, Crime]</td>
      <td>206647</td>
      <td>[spy, based on novel, secret agent, sequel, mi...</td>
      <td>A cryptic message from Bond’s past sends him o...</td>
      <td>Spectre</td>
      <td>[{"cast_id": 1, "character": "James Bond", "cr...</td>
      <td>[{"credit_id": "54805967c3a36829b5002c41", "de...</td>
    </tr>
    <tr>
      <th>3</th>
      <td>[Action, Crime, Drama, Thriller]</td>
      <td>49026</td>
      <td>[dc comics, crime fighter, terrorist, secret i...</td>
      <td>Following the death of District Attorney Harve...</td>
      <td>The Dark Knight Rises</td>
      <td>[{"cast_id": 2, "character": "Bruce Wayne / Ba...</td>
      <td>[{"credit_id": "52fe4781c3a36847f81398c3", "de...</td>
    </tr>
    <tr>
      <th>4</th>
      <td>[Action, Adventure, Science Fiction]</td>
      <td>49529</td>
      <td>[based on novel, mars, medallion, space travel...</td>
      <td>John Carter is a war-weary, former military ca...</td>
      <td>John Carter</td>
      <td>[{"cast_id": 5, "character": "John Carter", "c...</td>
      <td>[{"credit_id": "52fe479ac3a36847f813eaa3", "de...</td>
    </tr>
  </tbody>
</table>
</div>




```python
#take top 3 names from cast 
def convert3(obj):
    L=[]
    counter = 0
    for i in ast.literal_eval(obj):  #obj means {"id": 28, "name": "Action"}
        if counter != 3:
            L.append(i['name']) #select name in that and add to list
            counter+=1
        else:
            break
    return L
```


```python
movies['cast'] = movies['cast'].apply(convert3)
```


```python
movies.head()
```




<div>
<style scoped>
    .dataframe tbody tr th:only-of-type {
        vertical-align: middle;
    }

    .dataframe tbody tr th {
        vertical-align: top;
    }

    .dataframe thead th {
        text-align: right;
    }
</style>
<table border="1" class="dataframe">
  <thead>
    <tr style="text-align: right;">
      <th></th>
      <th>genres</th>
      <th>id</th>
      <th>keywords</th>
      <th>overview</th>
      <th>title</th>
      <th>cast</th>
      <th>crew</th>
    </tr>
  </thead>
  <tbody>
    <tr>
      <th>0</th>
      <td>[Action, Adventure, Fantasy, Science Fiction]</td>
      <td>19995</td>
      <td>[culture clash, future, space war, space colon...</td>
      <td>In the 22nd century, a paraplegic Marine is di...</td>
      <td>Avatar</td>
      <td>[Sam Worthington, Zoe Saldana, Sigourney Weaver]</td>
      <td>[{"credit_id": "52fe48009251416c750aca23", "de...</td>
    </tr>
    <tr>
      <th>1</th>
      <td>[Adventure, Fantasy, Action]</td>
      <td>285</td>
      <td>[ocean, drug abuse, exotic island, east india ...</td>
      <td>Captain Barbossa, long believed to be dead, ha...</td>
      <td>Pirates of the Caribbean: At World's End</td>
      <td>[Johnny Depp, Orlando Bloom, Keira Knightley]</td>
      <td>[{"credit_id": "52fe4232c3a36847f800b579", "de...</td>
    </tr>
    <tr>
      <th>2</th>
      <td>[Action, Adventure, Crime]</td>
      <td>206647</td>
      <td>[spy, based on novel, secret agent, sequel, mi...</td>
      <td>A cryptic message from Bond’s past sends him o...</td>
      <td>Spectre</td>
      <td>[Daniel Craig, Christoph Waltz, Léa Seydoux]</td>
      <td>[{"credit_id": "54805967c3a36829b5002c41", "de...</td>
    </tr>
    <tr>
      <th>3</th>
      <td>[Action, Crime, Drama, Thriller]</td>
      <td>49026</td>
      <td>[dc comics, crime fighter, terrorist, secret i...</td>
      <td>Following the death of District Attorney Harve...</td>
      <td>The Dark Knight Rises</td>
      <td>[Christian Bale, Michael Caine, Gary Oldman]</td>
      <td>[{"credit_id": "52fe4781c3a36847f81398c3", "de...</td>
    </tr>
    <tr>
      <th>4</th>
      <td>[Action, Adventure, Science Fiction]</td>
      <td>49529</td>
      <td>[based on novel, mars, medallion, space travel...</td>
      <td>John Carter is a war-weary, former military ca...</td>
      <td>John Carter</td>
      <td>[Taylor Kitsch, Lynn Collins, Samantha Morton]</td>
      <td>[{"credit_id": "52fe479ac3a36847f813eaa3", "de...</td>
    </tr>
  </tbody>
</table>
</div>




```python
#now the crew
movies['crew'][0]
```




    '[{"credit_id": "52fe48009251416c750aca23", "department": "Editing", "gender": 0, "id": 1721, "job": "Editor", "name": "Stephen E. Rivkin"}, {"credit_id": "539c47ecc3a36810e3001f87", "department": "Art", "gender": 2, "id": 496, "job": "Production Design", "name": "Rick Carter"}, {"credit_id": "54491c89c3a3680fb4001cf7", "department": "Sound", "gender": 0, "id": 900, "job": "Sound Designer", "name": "Christopher Boyes"}, {"credit_id": "54491cb70e0a267480001bd0", "department": "Sound", "gender": 0, "id": 900, "job": "Supervising Sound Editor", "name": "Christopher Boyes"}, {"credit_id": "539c4a4cc3a36810c9002101", "department": "Production", "gender": 1, "id": 1262, "job": "Casting", "name": "Mali Finn"}, {"credit_id": "5544ee3b925141499f0008fc", "department": "Sound", "gender": 2, "id": 1729, "job": "Original Music Composer", "name": "James Horner"}, {"credit_id": "52fe48009251416c750ac9c3", "department": "Directing", "gender": 2, "id": 2710, "job": "Director", "name": "James Cameron"}, {"credit_id": "52fe48009251416c750ac9d9", "department": "Writing", "gender": 2, "id": 2710, "job": "Writer", "name": "James Cameron"}, {"credit_id": "52fe48009251416c750aca17", "department": "Editing", "gender": 2, "id": 2710, "job": "Editor", "name": "James Cameron"}, {"credit_id": "52fe48009251416c750aca29", "department": "Production", "gender": 2, "id": 2710, "job": "Producer", "name": "James Cameron"}, {"credit_id": "52fe48009251416c750aca3f", "department": "Writing", "gender": 2, "id": 2710, "job": "Screenplay", "name": "James Cameron"}, {"credit_id": "539c4987c3a36810ba0021a4", "department": "Art", "gender": 2, "id": 7236, "job": "Art Direction", "name": "Andrew Menzies"}, {"credit_id": "549598c3c3a3686ae9004383", "department": "Visual Effects", "gender": 0, "id": 6690, "job": "Visual Effects Producer", "name": "Jill Brooks"}, {"credit_id": "52fe48009251416c750aca4b", "department": "Production", "gender": 1, "id": 6347, "job": "Casting", "name": "Margery Simkin"}, {"credit_id": "570b6f419251417da70032fe", "department": "Art", "gender": 2, "id": 6878, "job": "Supervising Art Director", "name": "Kevin Ishioka"}, {"credit_id": "5495a0fac3a3686ae9004468", "department": "Sound", "gender": 0, "id": 6883, "job": "Music Editor", "name": "Dick Bernstein"}, {"credit_id": "54959706c3a3686af3003e81", "department": "Sound", "gender": 0, "id": 8159, "job": "Sound Effects Editor", "name": "Shannon Mills"}, {"credit_id": "54491d58c3a3680fb1001ccb", "department": "Sound", "gender": 0, "id": 8160, "job": "Foley", "name": "Dennie Thorpe"}, {"credit_id": "54491d6cc3a3680fa5001b2c", "department": "Sound", "gender": 0, "id": 8163, "job": "Foley", "name": "Jana Vance"}, {"credit_id": "52fe48009251416c750aca57", "department": "Costume & Make-Up", "gender": 1, "id": 8527, "job": "Costume Design", "name": "Deborah Lynn Scott"}, {"credit_id": "52fe48009251416c750aca2f", "department": "Production", "gender": 2, "id": 8529, "job": "Producer", "name": "Jon Landau"}, {"credit_id": "539c4937c3a36810ba002194", "department": "Art", "gender": 0, "id": 9618, "job": "Art Direction", "name": "Sean Haworth"}, {"credit_id": "539c49b6c3a36810c10020e6", "department": "Art", "gender": 1, "id": 12653, "job": "Set Decoration", "name": "Kim Sinclair"}, {"credit_id": "570b6f2f9251413a0e00020d", "department": "Art", "gender": 1, "id": 12653, "job": "Supervising Art Director", "name": "Kim Sinclair"}, {"credit_id": "54491a6c0e0a26748c001b19", "department": "Art", "gender": 2, "id": 14350, "job": "Set Designer", "name": "Richard F. Mays"}, {"credit_id": "56928cf4c3a3684cff0025c4", "department": "Production", "gender": 1, "id": 20294, "job": "Executive Producer", "name": "Laeta Kalogridis"}, {"credit_id": "52fe48009251416c750aca51", "department": "Costume & Make-Up", "gender": 0, "id": 17675, "job": "Costume Design", "name": "Mayes C. Rubeo"}, {"credit_id": "52fe48009251416c750aca11", "department": "Camera", "gender": 2, "id": 18265, "job": "Director of Photography", "name": "Mauro Fiore"}, {"credit_id": "5449194d0e0a26748f001b39", "department": "Art", "gender": 0, "id": 42281, "job": "Set Designer", "name": "Scott Herbertson"}, {"credit_id": "52fe48009251416c750aca05", "department": "Crew", "gender": 0, "id": 42288, "job": "Stunts", "name": "Woody Schultz"}, {"credit_id": "5592aefb92514152de0010f5", "department": "Costume & Make-Up", "gender": 0, "id": 29067, "job": "Makeup Artist", "name": "Linda DeVetta"}, {"credit_id": "5592afa492514152de00112c", "department": "Costume & Make-Up", "gender": 0, "id": 29067, "job": "Hairstylist", "name": "Linda DeVetta"}, {"credit_id": "54959ed592514130fc002e5d", "department": "Camera", "gender": 2, "id": 33302, "job": "Camera Operator", "name": "Richard Bluck"}, {"credit_id": "539c4891c3a36810ba002147", "department": "Art", "gender": 2, "id": 33303, "job": "Art Direction", "name": "Simon Bright"}, {"credit_id": "54959c069251417a81001f3a", "department": "Visual Effects", "gender": 0, "id": 113145, "job": "Visual Effects Supervisor", "name": "Richard Martin"}, {"credit_id": "54959a0dc3a3680ff5002c8d", "department": "Crew", "gender": 2, "id": 58188, "job": "Visual Effects Editor", "name": "Steve R. Moore"}, {"credit_id": "52fe48009251416c750aca1d", "department": "Editing", "gender": 2, "id": 58871, "job": "Editor", "name": "John Refoua"}, {"credit_id": "54491a4dc3a3680fc30018ca", "department": "Art", "gender": 0, "id": 92359, "job": "Set Designer", "name": "Karl J. Martin"}, {"credit_id": "52fe48009251416c750aca35", "department": "Camera", "gender": 1, "id": 72201, "job": "Director of Photography", "name": "Chiling Lin"}, {"credit_id": "52fe48009251416c750ac9ff", "department": "Crew", "gender": 0, "id": 89714, "job": "Stunts", "name": "Ilram Choi"}, {"credit_id": "54959c529251416e2b004394", "department": "Visual Effects", "gender": 2, "id": 93214, "job": "Visual Effects Supervisor", "name": "Steven Quale"}, {"credit_id": "54491edf0e0a267489001c37", "department": "Crew", "gender": 1, "id": 122607, "job": "Dialect Coach", "name": "Carla Meyer"}, {"credit_id": "539c485bc3a368653d001a3a", "department": "Art", "gender": 2, "id": 132585, "job": "Art Direction", "name": "Nick Bassett"}, {"credit_id": "539c4903c3a368653d001a74", "department": "Art", "gender": 0, "id": 132596, "job": "Art Direction", "name": "Jill Cormack"}, {"credit_id": "539c4967c3a368653d001a94", "department": "Art", "gender": 0, "id": 132604, "job": "Art Direction", "name": "Andy McLaren"}, {"credit_id": "52fe48009251416c750aca45", "department": "Crew", "gender": 0, "id": 236696, "job": "Motion Capture Artist", "name": "Terry Notary"}, {"credit_id": "54959e02c3a3680fc60027d2", "department": "Crew", "gender": 2, "id": 956198, "job": "Stunt Coordinator", "name": "Garrett Warren"}, {"credit_id": "54959ca3c3a3686ae300438c", "department": "Visual Effects", "gender": 2, "id": 957874, "job": "Visual Effects Supervisor", "name": "Jonathan Rothbart"}, {"credit_id": "570b6f519251412c74001b2f", "department": "Art", "gender": 0, "id": 957889, "job": "Supervising Art Director", "name": "Stefan Dechant"}, {"credit_id": "570b6f62c3a3680b77007460", "department": "Art", "gender": 2, "id": 959555, "job": "Supervising Art Director", "name": "Todd Cherniawsky"}, {"credit_id": "539c4a3ac3a36810da0021cc", "department": "Production", "gender": 0, "id": 1016177, "job": "Casting", "name": "Miranda Rivers"}, {"credit_id": "539c482cc3a36810c1002062", "department": "Art", "gender": 0, "id": 1032536, "job": "Production Design", "name": "Robert Stromberg"}, {"credit_id": "539c4b65c3a36810c9002125", "department": "Costume & Make-Up", "gender": 2, "id": 1071680, "job": "Costume Design", "name": "John Harding"}, {"credit_id": "54959e6692514130fc002e4e", "department": "Camera", "gender": 0, "id": 1177364, "job": "Steadicam Operator", "name": "Roberto De Angelis"}, {"credit_id": "539c49f1c3a368653d001aac", "department": "Costume & Make-Up", "gender": 2, "id": 1202850, "job": "Makeup Department Head", "name": "Mike Smithson"}, {"credit_id": "5495999ec3a3686ae100460c", "department": "Visual Effects", "gender": 0, "id": 1204668, "job": "Visual Effects Producer", "name": "Alain Lalanne"}, {"credit_id": "54959cdfc3a3681153002729", "department": "Visual Effects", "gender": 0, "id": 1206410, "job": "Visual Effects Supervisor", "name": "Lucas Salton"}, {"credit_id": "549596239251417a81001eae", "department": "Crew", "gender": 0, "id": 1234266, "job": "Post Production Supervisor", "name": "Janace Tashjian"}, {"credit_id": "54959c859251416e1e003efe", "department": "Visual Effects", "gender": 0, "id": 1271932, "job": "Visual Effects Supervisor", "name": "Stephen Rosenbaum"}, {"credit_id": "5592af28c3a368775a00105f", "department": "Costume & Make-Up", "gender": 0, "id": 1310064, "job": "Makeup Artist", "name": "Frankie Karena"}, {"credit_id": "539c4adfc3a36810e300203b", "department": "Costume & Make-Up", "gender": 1, "id": 1319844, "job": "Costume Supervisor", "name": "Lisa Lovaas"}, {"credit_id": "54959b579251416e2b004371", "department": "Visual Effects", "gender": 0, "id": 1327028, "job": "Visual Effects Supervisor", "name": "Jonathan Fawkner"}, {"credit_id": "539c48a7c3a36810b5001fa7", "department": "Art", "gender": 0, "id": 1330561, "job": "Art Direction", "name": "Robert Bavin"}, {"credit_id": "539c4a71c3a36810da0021e0", "department": "Costume & Make-Up", "gender": 0, "id": 1330567, "job": "Costume Supervisor", "name": "Anthony Almaraz"}, {"credit_id": "539c4a8ac3a36810ba0021e4", "department": "Costume & Make-Up", "gender": 0, "id": 1330570, "job": "Costume Supervisor", "name": "Carolyn M. Fenton"}, {"credit_id": "539c4ab6c3a36810da0021f0", "department": "Costume & Make-Up", "gender": 0, "id": 1330574, "job": "Costume Supervisor", "name": "Beth Koenigsberg"}, {"credit_id": "54491ab70e0a267480001ba2", "department": "Art", "gender": 0, "id": 1336191, "job": "Set Designer", "name": "Sam Page"}, {"credit_id": "544919d9c3a3680fc30018bd", "department": "Art", "gender": 0, "id": 1339441, "job": "Set Designer", "name": "Tex Kadonaga"}, {"credit_id": "54491cf50e0a267483001b0c", "department": "Editing", "gender": 0, "id": 1352422, "job": "Dialogue Editor", "name": "Kim Foscato"}, {"credit_id": "544919f40e0a26748c001b09", "department": "Art", "gender": 0, "id": 1352962, "job": "Set Designer", "name": "Tammy S. Lee"}, {"credit_id": "5495a115c3a3680ff5002d71", "department": "Crew", "gender": 0, "id": 1357070, "job": "Transportation Coordinator", "name": "Denny Caira"}, {"credit_id": "5495a12f92514130fc002e94", "department": "Crew", "gender": 0, "id": 1357071, "job": "Transportation Coordinator", "name": "James Waitkus"}, {"credit_id": "5495976fc3a36811530026b0", "department": "Sound", "gender": 0, "id": 1360103, "job": "Supervising Sound Editor", "name": "Addison Teague"}, {"credit_id": "54491837c3a3680fb1001c5a", "department": "Art", "gender": 2, "id": 1376887, "job": "Set Designer", "name": "C. Scott Baker"}, {"credit_id": "54491878c3a3680fb4001c9d", "department": "Art", "gender": 0, "id": 1376888, "job": "Set Designer", "name": "Luke Caska"}, {"credit_id": "544918dac3a3680fa5001ae0", "department": "Art", "gender": 0, "id": 1376889, "job": "Set Designer", "name": "David Chow"}, {"credit_id": "544919110e0a267486001b68", "department": "Art", "gender": 0, "id": 1376890, "job": "Set Designer", "name": "Jonathan Dyer"}, {"credit_id": "54491967c3a3680faa001b5e", "department": "Art", "gender": 0, "id": 1376891, "job": "Set Designer", "name": "Joseph Hiura"}, {"credit_id": "54491997c3a3680fb1001c8a", "department": "Art", "gender": 0, "id": 1376892, "job": "Art Department Coordinator", "name": "Rebecca Jellie"}, {"credit_id": "544919ba0e0a26748f001b42", "department": "Art", "gender": 0, "id": 1376893, "job": "Set Designer", "name": "Robert Andrew Johnson"}, {"credit_id": "54491b1dc3a3680faa001b8c", "department": "Art", "gender": 0, "id": 1376895, "job": "Assistant Art Director", "name": "Mike Stassi"}, {"credit_id": "54491b79c3a3680fbb001826", "department": "Art", "gender": 0, "id": 1376897, "job": "Construction Coordinator", "name": "John Villarino"}, {"credit_id": "54491baec3a3680fb4001ce6", "department": "Art", "gender": 2, "id": 1376898, "job": "Assistant Art Director", "name": "Jeffrey Wisniewski"}, {"credit_id": "54491d2fc3a3680fb4001d07", "department": "Editing", "gender": 0, "id": 1376899, "job": "Dialogue Editor", "name": "Cheryl Nardi"}, {"credit_id": "54491d86c3a3680fa5001b2f", "department": "Editing", "gender": 0, "id": 1376901, "job": "Dialogue Editor", "name": "Marshall Winn"}, {"credit_id": "54491d9dc3a3680faa001bb0", "department": "Sound", "gender": 0, "id": 1376902, "job": "Supervising Sound Editor", "name": "Gwendolyn Yates Whittle"}, {"credit_id": "54491dc10e0a267486001bce", "department": "Sound", "gender": 0, "id": 1376903, "job": "Sound Re-Recording Mixer", "name": "William Stein"}, {"credit_id": "54491f500e0a26747c001c07", "department": "Crew", "gender": 0, "id": 1376909, "job": "Choreographer", "name": "Lula Washington"}, {"credit_id": "549599239251412c4e002a2e", "department": "Visual Effects", "gender": 0, "id": 1391692, "job": "Visual Effects Producer", "name": "Chris Del Conte"}, {"credit_id": "54959d54c3a36831b8001d9a", "department": "Visual Effects", "gender": 2, "id": 1391695, "job": "Visual Effects Supervisor", "name": "R. Christopher White"}, {"credit_id": "54959bdf9251412c4e002a66", "department": "Visual Effects", "gender": 0, "id": 1394070, "job": "Visual Effects Supervisor", "name": "Dan Lemmon"}, {"credit_id": "5495971d92514132ed002922", "department": "Sound", "gender": 0, "id": 1394129, "job": "Sound Effects Editor", "name": "Tim Nielsen"}, {"credit_id": "5592b25792514152cc0011aa", "department": "Crew", "gender": 0, "id": 1394286, "job": "CG Supervisor", "name": "Michael Mulholland"}, {"credit_id": "54959a329251416e2b004355", "department": "Crew", "gender": 0, "id": 1394750, "job": "Visual Effects Editor", "name": "Thomas Nittmann"}, {"credit_id": "54959d6dc3a3686ae9004401", "department": "Visual Effects", "gender": 0, "id": 1394755, "job": "Visual Effects Supervisor", "name": "Edson Williams"}, {"credit_id": "5495a08fc3a3686ae300441c", "department": "Editing", "gender": 0, "id": 1394953, "job": "Digital Intermediate", "name": "Christine Carr"}, {"credit_id": "55402d659251413d6d000249", "department": "Visual Effects", "gender": 0, "id": 1395269, "job": "Visual Effects Supervisor", "name": "John Bruno"}, {"credit_id": "54959e7b9251416e1e003f3e", "department": "Camera", "gender": 0, "id": 1398970, "job": "Steadicam Operator", "name": "David Emmerichs"}, {"credit_id": "54959734c3a3686ae10045e0", "department": "Sound", "gender": 0, "id": 1400906, "job": "Sound Effects Editor", "name": "Christopher Scarabosio"}, {"credit_id": "549595dd92514130fc002d79", "department": "Production", "gender": 0, "id": 1401784, "job": "Production Supervisor", "name": "Jennifer Teves"}, {"credit_id": "549596009251413af70028cc", "department": "Production", "gender": 0, "id": 1401785, "job": "Production Manager", "name": "Brigitte Yorke"}, {"credit_id": "549596e892514130fc002d99", "department": "Sound", "gender": 0, "id": 1401786, "job": "Sound Effects Editor", "name": "Ken Fischer"}, {"credit_id": "549598229251412c4e002a1c", "department": "Crew", "gender": 0, "id": 1401787, "job": "Special Effects Coordinator", "name": "Iain Hutton"}, {"credit_id": "549598349251416e2b00432b", "department": "Crew", "gender": 0, "id": 1401788, "job": "Special Effects Coordinator", "name": "Steve Ingram"}, {"credit_id": "54959905c3a3686ae3004324", "department": "Visual Effects", "gender": 0, "id": 1401789, "job": "Visual Effects Producer", "name": "Joyce Cox"}, {"credit_id": "5495994b92514132ed002951", "department": "Visual Effects", "gender": 0, "id": 1401790, "job": "Visual Effects Producer", "name": "Jenny Foster"}, {"credit_id": "549599cbc3a3686ae1004613", "department": "Crew", "gender": 0, "id": 1401791, "job": "Visual Effects Editor", "name": "Christopher Marino"}, {"credit_id": "549599f2c3a3686ae100461e", "department": "Crew", "gender": 0, "id": 1401792, "job": "Visual Effects Editor", "name": "Jim Milton"}, {"credit_id": "54959a51c3a3686af3003eb5", "department": "Visual Effects", "gender": 0, "id": 1401793, "job": "Visual Effects Producer", "name": "Cyndi Ochs"}, {"credit_id": "54959a7cc3a36811530026f4", "department": "Crew", "gender": 0, "id": 1401794, "job": "Visual Effects Editor", "name": "Lucas Putnam"}, {"credit_id": "54959b91c3a3680ff5002cb4", "department": "Visual Effects", "gender": 0, "id": 1401795, "job": "Visual Effects Supervisor", "name": "Anthony \'Max\' Ivins"}, {"credit_id": "54959bb69251412c4e002a5f", "department": "Visual Effects", "gender": 0, "id": 1401796, "job": "Visual Effects Supervisor", "name": "John Knoll"}, {"credit_id": "54959cbbc3a3686ae3004391", "department": "Visual Effects", "gender": 2, "id": 1401799, "job": "Visual Effects Supervisor", "name": "Eric Saindon"}, {"credit_id": "54959d06c3a3686ae90043f6", "department": "Visual Effects", "gender": 0, "id": 1401800, "job": "Visual Effects Supervisor", "name": "Wayne Stables"}, {"credit_id": "54959d259251416e1e003f11", "department": "Visual Effects", "gender": 0, "id": 1401801, "job": "Visual Effects Supervisor", "name": "David Stinnett"}, {"credit_id": "54959db49251413af7002975", "department": "Visual Effects", "gender": 0, "id": 1401803, "job": "Visual Effects Supervisor", "name": "Guy Williams"}, {"credit_id": "54959de4c3a3681153002750", "department": "Crew", "gender": 0, "id": 1401804, "job": "Stunt Coordinator", "name": "Stuart Thorp"}, {"credit_id": "54959ef2c3a3680fc60027f2", "department": "Lighting", "gender": 0, "id": 1401805, "job": "Best Boy Electric", "name": "Giles Coburn"}, {"credit_id": "54959f07c3a3680fc60027f9", "department": "Camera", "gender": 2, "id": 1401806, "job": "Still Photographer", "name": "Mark Fellman"}, {"credit_id": "54959f47c3a3681153002774", "department": "Lighting", "gender": 0, "id": 1401807, "job": "Lighting Technician", "name": "Scott Sprague"}, {"credit_id": "54959f8cc3a36831b8001df2", "department": "Visual Effects", "gender": 0, "id": 1401808, "job": "Animation Director", "name": "Jeremy Hollobon"}, {"credit_id": "54959fa0c3a36831b8001dfb", "department": "Visual Effects", "gender": 0, "id": 1401809, "job": "Animation Director", "name": "Orlando Meunier"}, {"credit_id": "54959fb6c3a3686af3003f54", "department": "Visual Effects", "gender": 0, "id": 1401810, "job": "Animation Director", "name": "Taisuke Tanimura"}, {"credit_id": "54959fd2c3a36831b8001e02", "department": "Costume & Make-Up", "gender": 0, "id": 1401812, "job": "Set Costumer", "name": "Lilia Mishel Acevedo"}, {"credit_id": "54959ff9c3a3686ae300440c", "department": "Costume & Make-Up", "gender": 0, "id": 1401814, "job": "Set Costumer", "name": "Alejandro M. Hernandez"}, {"credit_id": "5495a0ddc3a3686ae10046fe", "department": "Editing", "gender": 0, "id": 1401815, "job": "Digital Intermediate", "name": "Marvin Hall"}, {"credit_id": "5495a1f7c3a3686ae3004443", "department": "Production", "gender": 0, "id": 1401816, "job": "Publicist", "name": "Judy Alley"}, {"credit_id": "5592b29fc3a36869d100002f", "department": "Crew", "gender": 0, "id": 1418381, "job": "CG Supervisor", "name": "Mike Perry"}, {"credit_id": "5592b23a9251415df8001081", "department": "Crew", "gender": 0, "id": 1426854, "job": "CG Supervisor", "name": "Andrew Morley"}, {"credit_id": "55491e1192514104c40002d8", "department": "Art", "gender": 0, "id": 1438901, "job": "Conceptual Design", "name": "Seth Engstrom"}, {"credit_id": "5525d5809251417276002b06", "department": "Crew", "gender": 0, "id": 1447362, "job": "Visual Effects Art Director", "name": "Eric Oliver"}, {"credit_id": "554427ca925141586500312a", "department": "Visual Effects", "gender": 0, "id": 1447503, "job": "Modeling", "name": "Matsune Suzuki"}, {"credit_id": "551906889251415aab001c88", "department": "Art", "gender": 0, "id": 1447524, "job": "Art Department Manager", "name": "Paul Tobin"}, {"credit_id": "5592af8492514152cc0010de", "department": "Costume & Make-Up", "gender": 0, "id": 1452643, "job": "Hairstylist", "name": "Roxane Griffin"}, {"credit_id": "553d3c109251415852001318", "department": "Lighting", "gender": 0, "id": 1453938, "job": "Lighting Artist", "name": "Arun Ram-Mohan"}, {"credit_id": "5592af4692514152d5001355", "department": "Costume & Make-Up", "gender": 0, "id": 1457305, "job": "Makeup Artist", "name": "Georgia Lockhart-Adams"}, {"credit_id": "5592b2eac3a36877470012a5", "department": "Crew", "gender": 0, "id": 1466035, "job": "CG Supervisor", "name": "Thrain Shadbolt"}, {"credit_id": "5592b032c3a36877450015f1", "department": "Crew", "gender": 0, "id": 1483220, "job": "CG Supervisor", "name": "Brad Alexander"}, {"credit_id": "5592b05592514152d80012f6", "department": "Crew", "gender": 0, "id": 1483221, "job": "CG Supervisor", "name": "Shadi Almassizadeh"}, {"credit_id": "5592b090c3a36877570010b5", "department": "Crew", "gender": 0, "id": 1483222, "job": "CG Supervisor", "name": "Simon Clutterbuck"}, {"credit_id": "5592b0dbc3a368774b00112c", "department": "Crew", "gender": 0, "id": 1483223, "job": "CG Supervisor", "name": "Graeme Demmocks"}, {"credit_id": "5592b0fe92514152db0010c1", "department": "Crew", "gender": 0, "id": 1483224, "job": "CG Supervisor", "name": "Adrian Fernandes"}, {"credit_id": "5592b11f9251415df8001059", "department": "Crew", "gender": 0, "id": 1483225, "job": "CG Supervisor", "name": "Mitch Gates"}, {"credit_id": "5592b15dc3a3687745001645", "department": "Crew", "gender": 0, "id": 1483226, "job": "CG Supervisor", "name": "Jerry Kung"}, {"credit_id": "5592b18e925141645a0004ae", "department": "Crew", "gender": 0, "id": 1483227, "job": "CG Supervisor", "name": "Andy Lomas"}, {"credit_id": "5592b1bfc3a368775d0010e7", "department": "Crew", "gender": 0, "id": 1483228, "job": "CG Supervisor", "name": "Sebastian Marino"}, {"credit_id": "5592b2049251415df8001078", "department": "Crew", "gender": 0, "id": 1483229, "job": "CG Supervisor", "name": "Matthias Menz"}, {"credit_id": "5592b27b92514152d800136a", "department": "Crew", "gender": 0, "id": 1483230, "job": "CG Supervisor", "name": "Sergei Nevshupov"}, {"credit_id": "5592b2c3c3a36869e800003c", "department": "Crew", "gender": 0, "id": 1483231, "job": "CG Supervisor", "name": "Philippe Rebours"}, {"credit_id": "5592b317c3a36877470012af", "department": "Crew", "gender": 0, "id": 1483232, "job": "CG Supervisor", "name": "Michael Takarangi"}, {"credit_id": "5592b345c3a36877470012bb", "department": "Crew", "gender": 0, "id": 1483233, "job": "CG Supervisor", "name": "David Weitzberg"}, {"credit_id": "5592b37cc3a368775100113b", "department": "Crew", "gender": 0, "id": 1483234, "job": "CG Supervisor", "name": "Ben White"}, {"credit_id": "573c8e2f9251413f5d000094", "department": "Crew", "gender": 1, "id": 1621932, "job": "Stunts", "name": "Min Windle"}]'




```python
#we want only director
def fetch_director(obj):
    L=[]
    counter = 0
    for i in ast.literal_eval(obj):  #obj means {"id": 28, "name": "Action"}
        if i['job']=='Director':
            L.append(i['name']) #select name in that and add to list
            counter+=1
            break
    return L
```


```python
movies['crew'].apply(fetch_director)
```




    0           [James Cameron]
    1          [Gore Verbinski]
    2              [Sam Mendes]
    3       [Christopher Nolan]
    4          [Andrew Stanton]
                   ...         
    4804     [Robert Rodriguez]
    4805         [Edward Burns]
    4806          [Scott Smith]
    4807          [Daniel Hsia]
    4808     [Brian Herzlinger]
    Name: crew, Length: 4806, dtype: object




```python
movies['crew'] = movies['crew'].apply(fetch_director)
```


```python
movies.head()
```




<div>
<style scoped>
    .dataframe tbody tr th:only-of-type {
        vertical-align: middle;
    }

    .dataframe tbody tr th {
        vertical-align: top;
    }

    .dataframe thead th {
        text-align: right;
    }
</style>
<table border="1" class="dataframe">
  <thead>
    <tr style="text-align: right;">
      <th></th>
      <th>genres</th>
      <th>id</th>
      <th>keywords</th>
      <th>overview</th>
      <th>title</th>
      <th>cast</th>
      <th>crew</th>
    </tr>
  </thead>
  <tbody>
    <tr>
      <th>0</th>
      <td>[Action, Adventure, Fantasy, Science Fiction]</td>
      <td>19995</td>
      <td>[culture clash, future, space war, space colon...</td>
      <td>In the 22nd century, a paraplegic Marine is di...</td>
      <td>Avatar</td>
      <td>[Sam Worthington, Zoe Saldana, Sigourney Weaver]</td>
      <td>[James Cameron]</td>
    </tr>
    <tr>
      <th>1</th>
      <td>[Adventure, Fantasy, Action]</td>
      <td>285</td>
      <td>[ocean, drug abuse, exotic island, east india ...</td>
      <td>Captain Barbossa, long believed to be dead, ha...</td>
      <td>Pirates of the Caribbean: At World's End</td>
      <td>[Johnny Depp, Orlando Bloom, Keira Knightley]</td>
      <td>[Gore Verbinski]</td>
    </tr>
    <tr>
      <th>2</th>
      <td>[Action, Adventure, Crime]</td>
      <td>206647</td>
      <td>[spy, based on novel, secret agent, sequel, mi...</td>
      <td>A cryptic message from Bond’s past sends him o...</td>
      <td>Spectre</td>
      <td>[Daniel Craig, Christoph Waltz, Léa Seydoux]</td>
      <td>[Sam Mendes]</td>
    </tr>
    <tr>
      <th>3</th>
      <td>[Action, Crime, Drama, Thriller]</td>
      <td>49026</td>
      <td>[dc comics, crime fighter, terrorist, secret i...</td>
      <td>Following the death of District Attorney Harve...</td>
      <td>The Dark Knight Rises</td>
      <td>[Christian Bale, Michael Caine, Gary Oldman]</td>
      <td>[Christopher Nolan]</td>
    </tr>
    <tr>
      <th>4</th>
      <td>[Action, Adventure, Science Fiction]</td>
      <td>49529</td>
      <td>[based on novel, mars, medallion, space travel...</td>
      <td>John Carter is a war-weary, former military ca...</td>
      <td>John Carter</td>
      <td>[Taylor Kitsch, Lynn Collins, Samantha Morton]</td>
      <td>[Andrew Stanton]</td>
    </tr>
  </tbody>
</table>
</div>




```python
#overview is string so lets convert it also
movies['overview'][0]
```




    'In the 22nd century, a paraplegic Marine is dispatched to the moon Pandora on a unique mission, but becomes torn between following orders and protecting an alien civilization.'




```python
#split into words
movies['overview'].apply(lambda x: x.split())
```




    0       [In, the, 22nd, century,, a, paraplegic, Marin...
    1       [Captain, Barbossa,, long, believed, to, be, d...
    2       [A, cryptic, message, from, Bond’s, past, send...
    3       [Following, the, death, of, District, Attorney...
    4       [John, Carter, is, a, war-weary,, former, mili...
                                  ...                        
    4804    [El, Mariachi, just, wants, to, play, his, gui...
    4805    [A, newlywed, couple's, honeymoon, is, upended...
    4806    ["Signed,, Sealed,, Delivered", introduces, a,...
    4807    [When, ambitious, New, York, attorney, Sam, is...
    4808    [Ever, since, the, second, grade, when, he, fi...
    Name: overview, Length: 4806, dtype: object




```python
movies['overview'] = movies['overview'].apply(lambda x: x.split())
```


```python
movies.head()
```




<div>
<style scoped>
    .dataframe tbody tr th:only-of-type {
        vertical-align: middle;
    }

    .dataframe tbody tr th {
        vertical-align: top;
    }

    .dataframe thead th {
        text-align: right;
    }
</style>
<table border="1" class="dataframe">
  <thead>
    <tr style="text-align: right;">
      <th></th>
      <th>genres</th>
      <th>id</th>
      <th>keywords</th>
      <th>overview</th>
      <th>title</th>
      <th>cast</th>
      <th>crew</th>
    </tr>
  </thead>
  <tbody>
    <tr>
      <th>0</th>
      <td>[Action, Adventure, Fantasy, Science Fiction]</td>
      <td>19995</td>
      <td>[culture clash, future, space war, space colon...</td>
      <td>[In, the, 22nd, century,, a, paraplegic, Marin...</td>
      <td>Avatar</td>
      <td>[Sam Worthington, Zoe Saldana, Sigourney Weaver]</td>
      <td>[James Cameron]</td>
    </tr>
    <tr>
      <th>1</th>
      <td>[Adventure, Fantasy, Action]</td>
      <td>285</td>
      <td>[ocean, drug abuse, exotic island, east india ...</td>
      <td>[Captain, Barbossa,, long, believed, to, be, d...</td>
      <td>Pirates of the Caribbean: At World's End</td>
      <td>[Johnny Depp, Orlando Bloom, Keira Knightley]</td>
      <td>[Gore Verbinski]</td>
    </tr>
    <tr>
      <th>2</th>
      <td>[Action, Adventure, Crime]</td>
      <td>206647</td>
      <td>[spy, based on novel, secret agent, sequel, mi...</td>
      <td>[A, cryptic, message, from, Bond’s, past, send...</td>
      <td>Spectre</td>
      <td>[Daniel Craig, Christoph Waltz, Léa Seydoux]</td>
      <td>[Sam Mendes]</td>
    </tr>
    <tr>
      <th>3</th>
      <td>[Action, Crime, Drama, Thriller]</td>
      <td>49026</td>
      <td>[dc comics, crime fighter, terrorist, secret i...</td>
      <td>[Following, the, death, of, District, Attorney...</td>
      <td>The Dark Knight Rises</td>
      <td>[Christian Bale, Michael Caine, Gary Oldman]</td>
      <td>[Christopher Nolan]</td>
    </tr>
    <tr>
      <th>4</th>
      <td>[Action, Adventure, Science Fiction]</td>
      <td>49529</td>
      <td>[based on novel, mars, medallion, space travel...</td>
      <td>[John, Carter, is, a, war-weary,, former, mili...</td>
      <td>John Carter</td>
      <td>[Taylor Kitsch, Lynn Collins, Samantha Morton]</td>
      <td>[Andrew Stanton]</td>
    </tr>
  </tbody>
</table>
</div>




```python
# transformation is required
# to convert 'Sam Worthington' to 'SamWorthington'
#why???
#as u can see theres 'Sam Worthington' in cast and 'Sam Mendes' in crew 
#so machine might get confused if sam is searched
```


```python
#remove blank spaces
movies['genres'].apply(lambda x:[i.replace(" ","") for i in x])
```




    0       [Action, Adventure, Fantasy, ScienceFiction]
    1                       [Adventure, Fantasy, Action]
    2                         [Action, Adventure, Crime]
    3                   [Action, Crime, Drama, Thriller]
    4                [Action, Adventure, ScienceFiction]
                                ...                     
    4804                       [Action, Crime, Thriller]
    4805                               [Comedy, Romance]
    4806               [Comedy, Drama, Romance, TVMovie]
    4807                                              []
    4808                                   [Documentary]
    Name: genres, Length: 4806, dtype: object




```python
#now do same foe genres cast crew keywords
movies['genres'] = movies['genres'].apply(lambda x:[i.replace(" ","") for i in x])
movies['cast'] = movies['cast'].apply(lambda x:[i.replace(" ","") for i in x])
movies['crew'] = movies['crew'].apply(lambda x:[i.replace(" ","") for i in x])
movies['keywords'] = movies['keywords'].apply(lambda x:[i.replace(" ","") for i in x])
```


```python
movies.head()
```




<div>
<style scoped>
    .dataframe tbody tr th:only-of-type {
        vertical-align: middle;
    }

    .dataframe tbody tr th {
        vertical-align: top;
    }

    .dataframe thead th {
        text-align: right;
    }
</style>
<table border="1" class="dataframe">
  <thead>
    <tr style="text-align: right;">
      <th></th>
      <th>genres</th>
      <th>id</th>
      <th>keywords</th>
      <th>overview</th>
      <th>title</th>
      <th>cast</th>
      <th>crew</th>
    </tr>
  </thead>
  <tbody>
    <tr>
      <th>0</th>
      <td>[Action, Adventure, Fantasy, ScienceFiction]</td>
      <td>19995</td>
      <td>[cultureclash, future, spacewar, spacecolony, ...</td>
      <td>[In, the, 22nd, century,, a, paraplegic, Marin...</td>
      <td>Avatar</td>
      <td>[SamWorthington, ZoeSaldana, SigourneyWeaver]</td>
      <td>[JamesCameron]</td>
    </tr>
    <tr>
      <th>1</th>
      <td>[Adventure, Fantasy, Action]</td>
      <td>285</td>
      <td>[ocean, drugabuse, exoticisland, eastindiatrad...</td>
      <td>[Captain, Barbossa,, long, believed, to, be, d...</td>
      <td>Pirates of the Caribbean: At World's End</td>
      <td>[JohnnyDepp, OrlandoBloom, KeiraKnightley]</td>
      <td>[GoreVerbinski]</td>
    </tr>
    <tr>
      <th>2</th>
      <td>[Action, Adventure, Crime]</td>
      <td>206647</td>
      <td>[spy, basedonnovel, secretagent, sequel, mi6, ...</td>
      <td>[A, cryptic, message, from, Bond’s, past, send...</td>
      <td>Spectre</td>
      <td>[DanielCraig, ChristophWaltz, LéaSeydoux]</td>
      <td>[SamMendes]</td>
    </tr>
    <tr>
      <th>3</th>
      <td>[Action, Crime, Drama, Thriller]</td>
      <td>49026</td>
      <td>[dccomics, crimefighter, terrorist, secretiden...</td>
      <td>[Following, the, death, of, District, Attorney...</td>
      <td>The Dark Knight Rises</td>
      <td>[ChristianBale, MichaelCaine, GaryOldman]</td>
      <td>[ChristopherNolan]</td>
    </tr>
    <tr>
      <th>4</th>
      <td>[Action, Adventure, ScienceFiction]</td>
      <td>49529</td>
      <td>[basedonnovel, mars, medallion, spacetravel, p...</td>
      <td>[John, Carter, is, a, war-weary,, former, mili...</td>
      <td>John Carter</td>
      <td>[TaylorKitsch, LynnCollins, SamanthaMorton]</td>
      <td>[AndrewStanton]</td>
    </tr>
  </tbody>
</table>
</div>




```python
#now concatenate all 4 cols in tags
movies['tags'] = movies['genres'] + movies['cast'] + movies['crew'] + movies['keywords'] + movies['overview']
```


```python
movies.head()
```




<div>
<style scoped>
    .dataframe tbody tr th:only-of-type {
        vertical-align: middle;
    }

    .dataframe tbody tr th {
        vertical-align: top;
    }

    .dataframe thead th {
        text-align: right;
    }
</style>
<table border="1" class="dataframe">
  <thead>
    <tr style="text-align: right;">
      <th></th>
      <th>genres</th>
      <th>id</th>
      <th>keywords</th>
      <th>overview</th>
      <th>title</th>
      <th>cast</th>
      <th>crew</th>
      <th>tags</th>
    </tr>
  </thead>
  <tbody>
    <tr>
      <th>0</th>
      <td>[Action, Adventure, Fantasy, ScienceFiction]</td>
      <td>19995</td>
      <td>[cultureclash, future, spacewar, spacecolony, ...</td>
      <td>[In, the, 22nd, century,, a, paraplegic, Marin...</td>
      <td>Avatar</td>
      <td>[SamWorthington, ZoeSaldana, SigourneyWeaver]</td>
      <td>[JamesCameron]</td>
      <td>[Action, Adventure, Fantasy, ScienceFiction, S...</td>
    </tr>
    <tr>
      <th>1</th>
      <td>[Adventure, Fantasy, Action]</td>
      <td>285</td>
      <td>[ocean, drugabuse, exoticisland, eastindiatrad...</td>
      <td>[Captain, Barbossa,, long, believed, to, be, d...</td>
      <td>Pirates of the Caribbean: At World's End</td>
      <td>[JohnnyDepp, OrlandoBloom, KeiraKnightley]</td>
      <td>[GoreVerbinski]</td>
      <td>[Adventure, Fantasy, Action, JohnnyDepp, Orlan...</td>
    </tr>
    <tr>
      <th>2</th>
      <td>[Action, Adventure, Crime]</td>
      <td>206647</td>
      <td>[spy, basedonnovel, secretagent, sequel, mi6, ...</td>
      <td>[A, cryptic, message, from, Bond’s, past, send...</td>
      <td>Spectre</td>
      <td>[DanielCraig, ChristophWaltz, LéaSeydoux]</td>
      <td>[SamMendes]</td>
      <td>[Action, Adventure, Crime, DanielCraig, Christ...</td>
    </tr>
    <tr>
      <th>3</th>
      <td>[Action, Crime, Drama, Thriller]</td>
      <td>49026</td>
      <td>[dccomics, crimefighter, terrorist, secretiden...</td>
      <td>[Following, the, death, of, District, Attorney...</td>
      <td>The Dark Knight Rises</td>
      <td>[ChristianBale, MichaelCaine, GaryOldman]</td>
      <td>[ChristopherNolan]</td>
      <td>[Action, Crime, Drama, Thriller, ChristianBale...</td>
    </tr>
    <tr>
      <th>4</th>
      <td>[Action, Adventure, ScienceFiction]</td>
      <td>49529</td>
      <td>[basedonnovel, mars, medallion, spacetravel, p...</td>
      <td>[John, Carter, is, a, war-weary,, former, mili...</td>
      <td>John Carter</td>
      <td>[TaylorKitsch, LynnCollins, SamanthaMorton]</td>
      <td>[AndrewStanton]</td>
      <td>[Action, Adventure, ScienceFiction, TaylorKits...</td>
    </tr>
  </tbody>
</table>
</div>




```python
#now remove these 4 cols
new_dt = movies[['id','title','tags']]
```


```python
new_dt
```




<div>
<style scoped>
    .dataframe tbody tr th:only-of-type {
        vertical-align: middle;
    }

    .dataframe tbody tr th {
        vertical-align: top;
    }

    .dataframe thead th {
        text-align: right;
    }
</style>
<table border="1" class="dataframe">
  <thead>
    <tr style="text-align: right;">
      <th></th>
      <th>id</th>
      <th>title</th>
      <th>tags</th>
    </tr>
  </thead>
  <tbody>
    <tr>
      <th>0</th>
      <td>19995</td>
      <td>Avatar</td>
      <td>[Action, Adventure, Fantasy, ScienceFiction, S...</td>
    </tr>
    <tr>
      <th>1</th>
      <td>285</td>
      <td>Pirates of the Caribbean: At World's End</td>
      <td>[Adventure, Fantasy, Action, JohnnyDepp, Orlan...</td>
    </tr>
    <tr>
      <th>2</th>
      <td>206647</td>
      <td>Spectre</td>
      <td>[Action, Adventure, Crime, DanielCraig, Christ...</td>
    </tr>
    <tr>
      <th>3</th>
      <td>49026</td>
      <td>The Dark Knight Rises</td>
      <td>[Action, Crime, Drama, Thriller, ChristianBale...</td>
    </tr>
    <tr>
      <th>4</th>
      <td>49529</td>
      <td>John Carter</td>
      <td>[Action, Adventure, ScienceFiction, TaylorKits...</td>
    </tr>
    <tr>
      <th>...</th>
      <td>...</td>
      <td>...</td>
      <td>...</td>
    </tr>
    <tr>
      <th>4804</th>
      <td>9367</td>
      <td>El Mariachi</td>
      <td>[Action, Crime, Thriller, CarlosGallardo, Jaim...</td>
    </tr>
    <tr>
      <th>4805</th>
      <td>72766</td>
      <td>Newlyweds</td>
      <td>[Comedy, Romance, EdwardBurns, KerryBishé, Mar...</td>
    </tr>
    <tr>
      <th>4806</th>
      <td>231617</td>
      <td>Signed, Sealed, Delivered</td>
      <td>[Comedy, Drama, Romance, TVMovie, EricMabius, ...</td>
    </tr>
    <tr>
      <th>4807</th>
      <td>126186</td>
      <td>Shanghai Calling</td>
      <td>[DanielHenney, ElizaCoupe, BillPaxton, DanielH...</td>
    </tr>
    <tr>
      <th>4808</th>
      <td>25975</td>
      <td>My Date with Drew</td>
      <td>[Documentary, DrewBarrymore, BrianHerzlinger, ...</td>
    </tr>
  </tbody>
</table>
<p>4806 rows × 3 columns</p>
</div>




```python
#convert list of tags into strings
new_dt['tags'].apply(lambda x: " ".join(x))
```




    0       Action Adventure Fantasy ScienceFiction SamWor...
    1       Adventure Fantasy Action JohnnyDepp OrlandoBlo...
    2       Action Adventure Crime DanielCraig ChristophWa...
    3       Action Crime Drama Thriller ChristianBale Mich...
    4       Action Adventure ScienceFiction TaylorKitsch L...
                                  ...                        
    4804    Action Crime Thriller CarlosGallardo JaimedeHo...
    4805    Comedy Romance EdwardBurns KerryBishé MarshaDi...
    4806    Comedy Drama Romance TVMovie EricMabius Kristi...
    4807    DanielHenney ElizaCoupe BillPaxton DanielHsia ...
    4808    Documentary DrewBarrymore BrianHerzlinger Core...
    Name: tags, Length: 4806, dtype: object




```python
new_dt['tags'] = new_dt['tags'].apply(lambda x: " ".join(x))
```

    C:\Users\Anusha A Rao\AppData\Local\Temp\ipykernel_15128\1307377005.py:1: SettingWithCopyWarning: 
    A value is trying to be set on a copy of a slice from a DataFrame.
    Try using .loc[row_indexer,col_indexer] = value instead
    
    See the caveats in the documentation: https://pandas.pydata.org/pandas-docs/stable/user_guide/indexing.html#returning-a-view-versus-a-copy
      new_dt['tags'] = new_dt['tags'].apply(lambda x: " ".join(x))
    


```python
new_dt.head()
```




<div>
<style scoped>
    .dataframe tbody tr th:only-of-type {
        vertical-align: middle;
    }

    .dataframe tbody tr th {
        vertical-align: top;
    }

    .dataframe thead th {
        text-align: right;
    }
</style>
<table border="1" class="dataframe">
  <thead>
    <tr style="text-align: right;">
      <th></th>
      <th>id</th>
      <th>title</th>
      <th>tags</th>
    </tr>
  </thead>
  <tbody>
    <tr>
      <th>0</th>
      <td>19995</td>
      <td>Avatar</td>
      <td>Action Adventure Fantasy ScienceFiction SamWor...</td>
    </tr>
    <tr>
      <th>1</th>
      <td>285</td>
      <td>Pirates of the Caribbean: At World's End</td>
      <td>Adventure Fantasy Action JohnnyDepp OrlandoBlo...</td>
    </tr>
    <tr>
      <th>2</th>
      <td>206647</td>
      <td>Spectre</td>
      <td>Action Adventure Crime DanielCraig ChristophWa...</td>
    </tr>
    <tr>
      <th>3</th>
      <td>49026</td>
      <td>The Dark Knight Rises</td>
      <td>Action Crime Drama Thriller ChristianBale Mich...</td>
    </tr>
    <tr>
      <th>4</th>
      <td>49529</td>
      <td>John Carter</td>
      <td>Action Adventure ScienceFiction TaylorKitsch L...</td>
    </tr>
  </tbody>
</table>
</div>




```python
new_dt['tags'][0]
```




    'Action Adventure Fantasy ScienceFiction SamWorthington ZoeSaldana SigourneyWeaver JamesCameron cultureclash future spacewar spacecolony society spacetravel futuristic romance space alien tribe alienplanet cgi marine soldier battle loveaffair antiwar powerrelations mindandsoul 3d In the 22nd century, a paraplegic Marine is dispatched to the moon Pandora on a unique mission, but becomes torn between following orders and protecting an alien civilization.'




```python
new_dt['tags'].apply(lambda x:x.lower())
```




    0       action adventure fantasy sciencefiction samwor...
    1       adventure fantasy action johnnydepp orlandoblo...
    2       action adventure crime danielcraig christophwa...
    3       action crime drama thriller christianbale mich...
    4       action adventure sciencefiction taylorkitsch l...
                                  ...                        
    4804    action crime thriller carlosgallardo jaimedeho...
    4805    comedy romance edwardburns kerrybishé marshadi...
    4806    comedy drama romance tvmovie ericmabius kristi...
    4807    danielhenney elizacoupe billpaxton danielhsia ...
    4808    documentary drewbarrymore brianherzlinger core...
    Name: tags, Length: 4806, dtype: object




```python
new_dt['tags'] = new_dt['tags'].apply(lambda x:x.lower())
```

    C:\Users\Anusha A Rao\AppData\Local\Temp\ipykernel_15128\3814901098.py:1: SettingWithCopyWarning: 
    A value is trying to be set on a copy of a slice from a DataFrame.
    Try using .loc[row_indexer,col_indexer] = value instead
    
    See the caveats in the documentation: https://pandas.pydata.org/pandas-docs/stable/user_guide/indexing.html#returning-a-view-versus-a-copy
      new_dt['tags'] = new_dt['tags'].apply(lambda x:x.lower())
    


```python
new_dt.head()
```




<div>
<style scoped>
    .dataframe tbody tr th:only-of-type {
        vertical-align: middle;
    }

    .dataframe tbody tr th {
        vertical-align: top;
    }

    .dataframe thead th {
        text-align: right;
    }
</style>
<table border="1" class="dataframe">
  <thead>
    <tr style="text-align: right;">
      <th></th>
      <th>id</th>
      <th>title</th>
      <th>tags</th>
    </tr>
  </thead>
  <tbody>
    <tr>
      <th>0</th>
      <td>19995</td>
      <td>Avatar</td>
      <td>action adventure fantasy sciencefiction samwor...</td>
    </tr>
    <tr>
      <th>1</th>
      <td>285</td>
      <td>Pirates of the Caribbean: At World's End</td>
      <td>adventure fantasy action johnnydepp orlandoblo...</td>
    </tr>
    <tr>
      <th>2</th>
      <td>206647</td>
      <td>Spectre</td>
      <td>action adventure crime danielcraig christophwa...</td>
    </tr>
    <tr>
      <th>3</th>
      <td>49026</td>
      <td>The Dark Knight Rises</td>
      <td>action crime drama thriller christianbale mich...</td>
    </tr>
    <tr>
      <th>4</th>
      <td>49529</td>
      <td>John Carter</td>
      <td>action adventure sciencefiction taylorkitsch l...</td>
    </tr>
  </tbody>
</table>
</div>




```python
new_dt['tags'][0]
```




    'action adventure fantasy sciencefiction samworthington zoesaldana sigourneyweaver jamescameron cultureclash future spacewar spacecolony society spacetravel futuristic romance space alien tribe alienplanet cgi marine soldier battle loveaffair antiwar powerrelations mindandsoul 3d in the 22nd century, a paraplegic marine is dispatched to the moon pandora on a unique mission, but becomes torn between following orders and protecting an alien civilization.'




```python
new_dt['tags'][1]
```




    "adventure fantasy action johnnydepp orlandobloom keiraknightley goreverbinski ocean drugabuse exoticisland eastindiatradingcompany loveofone'slife traitor shipwreck strongwoman ship alliance calypso afterlife fighter pirate swashbuckler aftercreditsstinger captain barbossa, long believed to be dead, has come back to life and is headed to the edge of the earth with will turner and elizabeth swann. but nothing is quite as it seems."




```python
# as u can c words are similar like 'action' 'actions' etc
# so v r gonna use nltk library to convert that into 'action' 'action' like this

import nltk
```


```python
pip install nltk
```

    Requirement already satisfied: nltk in c:\users\anusha a rao\downloads\new folder\lib\site-packages (3.7)
    Requirement already satisfied: tqdm in c:\users\anusha a rao\downloads\new folder\lib\site-packages (from nltk) (4.64.1)
    Requirement already satisfied: click in c:\users\anusha a rao\downloads\new folder\lib\site-packages (from nltk) (8.0.4)
    Requirement already satisfied: joblib in c:\users\anusha a rao\downloads\new folder\lib\site-packages (from nltk) (1.1.1)
    Requirement already satisfied: regex>=2021.8.3 in c:\users\anusha a rao\downloads\new folder\lib\site-packages (from nltk) (2022.7.9)
    Requirement already satisfied: colorama in c:\users\anusha a rao\downloads\new folder\lib\site-packages (from click->nltk) (0.4.6)
    Note: you may need to restart the kernel to use updated packages.
    


```python
from nltk.stem.porter import PorterStemmer
ps = PorterStemmer()
```


```python
def stem(text):
    y=[]
    for i in text.split(): 
        y.append(ps.stem(i))
        
    return " ".join(y)
```


```python
ps.stem('actions')
```




    'action'




```python
#apply stem on new_dt
new_dt['tags'].apply(stem)
```




    0       action adventur fantasi sciencefict samworthin...
    1       adventur fantasi action johnnydepp orlandobloo...
    2       action adventur crime danielcraig christophwal...
    3       action crime drama thriller christianbal micha...
    4       action adventur sciencefict taylorkitsch lynnc...
                                  ...                        
    4804    action crime thriller carlosgallardo jaimedeho...
    4805    comedi romanc edwardburn kerrybishé marshadiet...
    4806    comedi drama romanc tvmovi ericmabiu kristinbo...
    4807    danielhenney elizacoup billpaxton danielhsia w...
    4808    documentari drewbarrymor brianherzling coreyfe...
    Name: tags, Length: 4806, dtype: object




```python
new_dt['tags'] = new_dt['tags'].apply(stem)
```

    C:\Users\Anusha A Rao\AppData\Local\Temp\ipykernel_15128\2232645302.py:1: SettingWithCopyWarning: 
    A value is trying to be set on a copy of a slice from a DataFrame.
    Try using .loc[row_indexer,col_indexer] = value instead
    
    See the caveats in the documentation: https://pandas.pydata.org/pandas-docs/stable/user_guide/indexing.html#returning-a-view-versus-a-copy
      new_dt['tags'] = new_dt['tags'].apply(stem)
    


```python
#this is library used for vectorization
from sklearn.feature_extraction.text import CountVectorizer
cv = CountVectorizer(max_features = 5000, stop_words='english')
```


```python
cv.fit(new_dt['tags'])
```




<style>#sk-container-id-1 {color: black;background-color: white;}#sk-container-id-1 pre{padding: 0;}#sk-container-id-1 div.sk-toggleable {background-color: white;}#sk-container-id-1 label.sk-toggleable__label {cursor: pointer;display: block;width: 100%;margin-bottom: 0;padding: 0.3em;box-sizing: border-box;text-align: center;}#sk-container-id-1 label.sk-toggleable__label-arrow:before {content: "▸";float: left;margin-right: 0.25em;color: #696969;}#sk-container-id-1 label.sk-toggleable__label-arrow:hover:before {color: black;}#sk-container-id-1 div.sk-estimator:hover label.sk-toggleable__label-arrow:before {color: black;}#sk-container-id-1 div.sk-toggleable__content {max-height: 0;max-width: 0;overflow: hidden;text-align: left;background-color: #f0f8ff;}#sk-container-id-1 div.sk-toggleable__content pre {margin: 0.2em;color: black;border-radius: 0.25em;background-color: #f0f8ff;}#sk-container-id-1 input.sk-toggleable__control:checked~div.sk-toggleable__content {max-height: 200px;max-width: 100%;overflow: auto;}#sk-container-id-1 input.sk-toggleable__control:checked~label.sk-toggleable__label-arrow:before {content: "▾";}#sk-container-id-1 div.sk-estimator input.sk-toggleable__control:checked~label.sk-toggleable__label {background-color: #d4ebff;}#sk-container-id-1 div.sk-label input.sk-toggleable__control:checked~label.sk-toggleable__label {background-color: #d4ebff;}#sk-container-id-1 input.sk-hidden--visually {border: 0;clip: rect(1px 1px 1px 1px);clip: rect(1px, 1px, 1px, 1px);height: 1px;margin: -1px;overflow: hidden;padding: 0;position: absolute;width: 1px;}#sk-container-id-1 div.sk-estimator {font-family: monospace;background-color: #f0f8ff;border: 1px dotted black;border-radius: 0.25em;box-sizing: border-box;margin-bottom: 0.5em;}#sk-container-id-1 div.sk-estimator:hover {background-color: #d4ebff;}#sk-container-id-1 div.sk-parallel-item::after {content: "";width: 100%;border-bottom: 1px solid gray;flex-grow: 1;}#sk-container-id-1 div.sk-label:hover label.sk-toggleable__label {background-color: #d4ebff;}#sk-container-id-1 div.sk-serial::before {content: "";position: absolute;border-left: 1px solid gray;box-sizing: border-box;top: 0;bottom: 0;left: 50%;z-index: 0;}#sk-container-id-1 div.sk-serial {display: flex;flex-direction: column;align-items: center;background-color: white;padding-right: 0.2em;padding-left: 0.2em;position: relative;}#sk-container-id-1 div.sk-item {position: relative;z-index: 1;}#sk-container-id-1 div.sk-parallel {display: flex;align-items: stretch;justify-content: center;background-color: white;position: relative;}#sk-container-id-1 div.sk-item::before, #sk-container-id-1 div.sk-parallel-item::before {content: "";position: absolute;border-left: 1px solid gray;box-sizing: border-box;top: 0;bottom: 0;left: 50%;z-index: -1;}#sk-container-id-1 div.sk-parallel-item {display: flex;flex-direction: column;z-index: 1;position: relative;background-color: white;}#sk-container-id-1 div.sk-parallel-item:first-child::after {align-self: flex-end;width: 50%;}#sk-container-id-1 div.sk-parallel-item:last-child::after {align-self: flex-start;width: 50%;}#sk-container-id-1 div.sk-parallel-item:only-child::after {width: 0;}#sk-container-id-1 div.sk-dashed-wrapped {border: 1px dashed gray;margin: 0 0.4em 0.5em 0.4em;box-sizing: border-box;padding-bottom: 0.4em;background-color: white;}#sk-container-id-1 div.sk-label label {font-family: monospace;font-weight: bold;display: inline-block;line-height: 1.2em;}#sk-container-id-1 div.sk-label-container {text-align: center;}#sk-container-id-1 div.sk-container {/* jupyter's `normalize.less` sets `[hidden] { display: none; }` but bootstrap.min.css set `[hidden] { display: none !important; }` so we also need the `!important` here to be able to override the default hidden behavior on the sphinx rendered scikit-learn.org. See: https://github.com/scikit-learn/scikit-learn/issues/21755 */display: inline-block !important;position: relative;}#sk-container-id-1 div.sk-text-repr-fallback {display: none;}</style><div id="sk-container-id-1" class="sk-top-container"><div class="sk-text-repr-fallback"><pre>CountVectorizer(max_features=5000, stop_words=&#x27;english&#x27;)</pre><b>In a Jupyter environment, please rerun this cell to show the HTML representation or trust the notebook. <br />On GitHub, the HTML representation is unable to render, please try loading this page with nbviewer.org.</b></div><div class="sk-container" hidden><div class="sk-item"><div class="sk-estimator sk-toggleable"><input class="sk-toggleable__control sk-hidden--visually" id="sk-estimator-id-1" type="checkbox" checked><label for="sk-estimator-id-1" class="sk-toggleable__label sk-toggleable__label-arrow">CountVectorizer</label><div class="sk-toggleable__content"><pre>CountVectorizer(max_features=5000, stop_words=&#x27;english&#x27;)</pre></div></div></div></div></div>




```python
vectors = cv.fit_transform(new_dt['tags']).toarray()
```


```python
vectors
```




    array([[0, 0, 0, ..., 0, 0, 0],
           [0, 0, 0, ..., 0, 0, 0],
           [0, 0, 0, ..., 0, 0, 0],
           ...,
           [0, 0, 0, ..., 0, 0, 0],
           [0, 0, 0, ..., 0, 0, 0],
           [0, 0, 0, ..., 0, 0, 0]], dtype=int64)




```python
vectors[0]
```




    array([0, 0, 0, ..., 0, 0, 0], dtype=int64)




```python
len(cv.get_feature_names_out())# most repeated words
```




    5000




```python
feature_names = cv.get_feature_names_out()
```


```python
feature_names_list = feature_names.tolist()
```


```python
for name in feature_names_list:
    print(name)
```

    000
    007
    10
    100
    11
    12
    13
    14
    15
    16
    17
    17th
    18
    18th
    18thcenturi
    19
    1910
    1920
    1930
    1940
    1944
    1950
    1950s
    1960
    1960s
    1970
    1970s
    1971
    1974
    1976
    1980
    1985
    1990
    1999
    19th
    19thcenturi
    20
    200
    2003
    2009
    20th
    21st
    23
    24
    25
    30
    300
    3d
    40
    50
    500
    60
    70
    80
    aaron
    aaroneckhart
    abandon
    abduct
    abigailbreslin
    abil
    abl
    aboard
    abov
    abus
    academ
    academi
    accept
    access
    accid
    accident
    acclaim
    accompani
    accomplish
    account
    accus
    ace
    achiev
    acquaint
    act
    action
    actionhero
    activ
    activist
    activities
    actor
    actress
    actual
    ad
    adam
    adamsandl
    adamshankman
    adapt
    add
    addict
    adjust
    admir
    admit
    adolesc
    adopt
    ador
    adrienbrodi
    adult
    adultanim
    adulteri
    adulthood
    advanc
    adventur
    adventure
    adventures
    advertis
    advic
    advis
    affair
    affect
    afghanistan
    africa
    african
    africanamerican
    aftercreditssting
    afterlif
    aftermath
    ag
    age
    agediffer
    agenc
    agency
    agenda
    agent
    agents
    aggress
    ago
    agre
    ahead
    aid
    aidanquinn
    ail
    aim
    air
    airplan
    airplanecrash
    airport
    aka
    al
    alabama
    alan
    alaska
    albert
    alcatraz
    alcohol
    alecbaldwin
    alex
    alexkendrick
    alfredhitchcock
    alfredmolina
    ali
    alic
    alice
    alien
    alieninvas
    alienlife
    alienplanet
    aliens
    alik
    aliv
    alive
    allen
    alli
    allianc
    allow
    alon
    alongsid
    alpacino
    alpha
    alreadi
    alter
    altern
    alway
    alyssa
    alzheimer
    amanda
    amandapeet
    amandaseyfri
    amateur
    amaz
    amazon
    ambassador
    ambit
    ambiti
    ambul
    ambush
    america
    american
    americanabroad
    americancivilwar
    americanfootbal
    americanfootballplay
    amid
    amidst
    amnesia
    amp
    amsterdam
    amus
    amusementpark
    amy
    amyadam
    amysmart
    ana
    anakin
    analyst
    anarchiccomedi
    ancient
    ancientrom
    ancientworld
    anderson
    andi
    andiemacdowel
    andrew
    android
    andy
    andygarcía
    angel
    angela
    angelabassett
    angeles
    angelinajoli
    anger
    angle
    angri
    ani
    anim
    animalattack
    animalhorror
    animals
    anjelicahuston
    ann
    anna
    annafari
    annakendrick
    anne
    annehathaway
    annemoss
    annetteben
    anni
    annie
    anniversari
    announc
    annual
    anonym
    anoth
    answer
    ant
    antholog
    anthoni
    anthonyanderson
    anthonyhopkin
    anthropomorph
    anti
    antic
    antihero
    antiqu
    antoinefuqua
    antoniobandera
    antonyelchin
    anyon
    anyth
    apart
    apartheid
    apartment
    ape
    apocalyps
    apocalypse
    apocalypt
    appar
    appear
    appl
    apple
    appoint
    appreci
    apprentic
    approach
    april
    aquarium
    arab
    arch
    archaeologist
    archeolog
    archer
    architect
    arctic
    area
    aren
    arena
    argument
    aris
    aristocrat
    arm
    armi
    armor
    armsdeal
    army
    arnold
    arnoldschwarzenegg
    arrang
    arrangedmarriag
    arrest
    arriv
    arrog
    art
    arthur
    artifact
    artifici
    artificialintellig
    artist
    ash
    ashley
    ashleyjudd
    ashtonkutch
    asia
    asian
    asid
    ask
    aspect
    aspir
    assassin
    assault
    assembl
    assign
    assist
    assistant
    associ
    assum
    asteroid
    astronaut
    asylum
    atheist
    athlet
    atom
    atomicbomb
    attack
    attacks
    attempt
    attend
    attent
    attic
    attitud
    attorney
    attract
    auction
    audienc
    audit
    august
    aunt
    austin
    australia
    australian
    author
    autism
    auto
    automobilerac
    aveng
    averag
    avoid
    await
    awak
    awaken
    awar
    award
    away
    awkward
    awri
    awry
    ax
    babe
    babi
    baby
    bachelor
    backdrop
    background
    backpack
    bad
    bag
    bahama
    bail
    balanc
    ball
    ballet
    balloon
    baltimor
    ban
    band
    bandit
    bangkok
    banish
    bank
    banker
    bankrobb
    bankrobberi
    bar
    barbrastreisand
    bare
    bargain
    barn
    barney
    baron
    barri
    barrylevinson
    barrysonnenfeld
    bas
    base
    basebal
    basedoncomicbook
    basedongraphicnovel
    basedonnovel
    basedonplay
    basedonstagemus
    basedontrueev
    basedontruestori
    basedontvseri
    basedonvideogam
    basedonyoungadultnovel
    basement
    basketbal
    basketball
    bat
    batman
    battl
    battle
    battlefield
    bay
    beach
    beam
    bear
    beard
    beast
    beat
    beauti
    beautiful
    beautifulwoman
    beauty
    becam
    becaus
    becki
    becom
    becominganadult
    bed
    bedroom
    bee
    beer
    befor
    befriend
    began
    begin
    begins
    behavior
    belief
    believ
    bell
    bella
    belong
    belov
    ben
    benaffleck
    bend
    beneath
    benefit
    benfost
    beniciodeltoro
    benjamin
    benjaminbratt
    benkingsley
    bennett
    benstil
    bent
    berlin
    best
    bestfriend
    bestfriendsinlov
    bet
    beth
    betray
    bettemidl
    better
    betti
    beverli
    bibl
    bid
    big
    bigger
    biggest
    bike
    biker
    bikini
    billhad
    billi
    billionair
    billmurray
    billnighi
    billpaxton
    billpullman
    billybobthornton
    billycrudup
    billycryst
    biographi
    biolog
    bird
    birth
    birthday
    bisexu
    bishop
    bit
    bite
    bitter
    bizarr
    black
    blackmag
    blackmail
    blackpeopl
    blacksmith
    blade
    blame
    blend
    blind
    bliss
    blizzard
    block
    blond
    blood
    bloodi
    bloodsplatt
    bloodthirsti
    blow
    blue
    board
    boardingschool
    boat
    bob
    bobbi
    bobbyfarrelli
    bobhoskin
    bodi
    body
    bodyguard
    bold
    bollywood
    bomb
    bond
    bone
    book
    border
    bore
    boredom
    born
    boss
    boston
    botch
    bound
    boundari
    bounti
    bountyhunt
    bout
    box
    boxer
    boy
    boyfriend
    boys
    bradleycoop
    bradpitt
    brain
    brainwash
    brand
    brandon
    brave
    braveri
    brazil
    brazilian
    break
    breakdown
    breast
    breath
    breed
    brendanfras
    brendangleeson
    brent
    brettratn
    brian
    briandepalma
    bride
    bridesmaid
    bridg
    brief
    brielarson
    brien
    bright
    brilliant
    bring
    brink
    britain
    british
    britishsecretservic
    brittanymurphi
    broadcast
    broadway
    broke
    broken
    broker
    bronx
    brook
    brooklyn
    broom
    brothel
    brother
    brotherbrotherrelationship
    brothers
    brothersisterrelationship
    brought
    brown
    bruce
    brucegreenwood
    brucewilli
    brutal
    bryansing
    bu
    buck
    bud
    buddi
    buddy
    buddycomedi
    buddycop
    budget
    build
    building
    built
    bullet
    bulli
    bumbl
    bunch
    bunker
    bunni
    burglar
    buri
    burn
    bush
    busi
    business
    businessman
    bust
    butcher
    butler
    butt
    button
    buy
    buzz
    cabin
    caesar
    cage
    cairo
    cal
    california
    calvin
    camcord
    came
    camera
    cameraman
    camerondiaz
    camp
    campaign
    campbell
    campu
    canada
    canadian
    cancer
    candi
    candid
    canin
    cannib
    canuxploit
    capabl
    caper
    capit
    capt
    captain
    captiv
    captur
    capture
    car
    caraccid
    carchas
    carcrash
    card
    care
    career
    carefre
    caretak
    careymulligan
    caribbean
    carjourney
    carl
    carlagugino
    carmen
    carol
    carolina
    carrac
    carri
    carrie
    cartel
    carter
    cartoon
    caryelw
    case
    caseyaffleck
    cash
    casino
    cast
    castl
    cat
    cataclysm
    catastroph
    catch
    cateblanchett
    catherinedeneuv
    catherinekeen
    catherinezeta
    cathol
    catholic
    cattl
    caught
    caus
    cavalri
    cave
    cavemen
    celebr
    celebration
    cell
    cellphon
    cemeteri
    center
    centr
    central
    centuri
    centuries
    century
    ceo
    certain
    chad
    chain
    chainsaw
    challeng
    chamber
    champion
    championship
    chanc
    chance
    chang
    change
    changed
    changes
    channingtatum
    chao
    chaos
    chaotic
    chapter
    charact
    character
    characters
    charg
    charismat
    charl
    charli
    charlie
    charliesheen
    charlizetheron
    charm
    chart
    chase
    chauffeur
    chazzpalminteri
    cheat
    check
    cheerlead
    chef
    chemic
    cher
    chevychas
    chicago
    chicken
    chief
    child
    childabus
    childhero
    childhood
    childprodigi
    children
    chill
    chimp
    china
    chines
    chip
    chipmunk
    chiwetelejiofor
    chloe
    chloëgracemoretz
    chloësevigni
    chocol
    choic
    choice
    choos
    chosen
    chowyun
    chri
    chriscolumbu
    chriscoop
    chrisevan
    chrishemsworth
    chrisklein
    chrispin
    chrisrock
    christ
    christian
    christianbal
    christianslat
    christin
    christinaappleg
    christinaricci
    christma
    christmas
    christmasparti
    christmastre
    christoph
    christopherlambert
    christopherlloyd
    christophernolan
    christopherplumm
    christopherwalken
    christophwaltz
    chrisweitz
    chronicl
    chuck
    church
    cia
    ciaránhind
    cigarettesmok
    cillianmurphi
    cinema
    circl
    circu
    circuit
    circumst
    citi
    citizen
    city
    civil
    civilian
    civilwar
    claim
    clair
    clairedan
    claireforlani
    clan
    clark
    clash
    class
    classdiffer
    classic
    classmat
    classroom
    claudevandamm
    clay
    clean
    clear
    clerk
    clever
    client
    clients
    cliff
    climat
    climb
    clinteastwood
    cliveowen
    clock
    clone
    close
    closer
    cloud
    clown
    club
    clue
    clueless
    clutch
    coach
    coast
    cocain
    code
    coffin
    cohen
    col
    cold
    coldwar
    cole
    colin
    colinfarrel
    colinfirth
    collaps
    colleagu
    collect
    collector
    colleg
    college
    collid
    collis
    colombia
    colonel
    coloni
    color
    colorado
    coma
    combat
    combin
    come
    comeback
    comed
    comedi
    comedian
    comedy
    comet
    comfort
    comic
    coming
    comingofag
    comingout
    command
    commando
    commerci
    commiss
    commit
    common
    commun
    communist
    community
    compani
    companion
    company
    compet
    competit
    competition
    complet
    complex
    complic
    compos
    compuls
    comput
    computerviru
    conan
    concern
    concert
    concoct
    condit
    condition
    conduct
    confeder
    confess
    confid
    confin
    conflict
    confront
    confus
    congress
    conman
    connect
    connecticut
    connel
    connor
    conquer
    consequ
    consequences
    conserv
    consid
    conspir
    conspiraci
    conspiracy
    constant
    constantli
    construct
    consum
    contact
    contain
    contemporari
    contend
    content
    contest
    continu
    contract
    contractor
    control
    controversi
    convent
    converg
    convers
    convict
    convinc
    cook
    cool
    cooper
    cop
    cope
    cops
    core
    corner
    corp
    corpor
    corporation
    corps
    corrupt
    cost
    costum
    couldn
    counselor
    count
    countess
    countless
    countri
    country
    countryhous
    countrymus
    countrysid
    coup
    coupl
    couple
    courag
    cours
    court
    courtcas
    courteneycox
    courtroom
    cousin
    cover
    covert
    covet
    cow
    cowardli
    cowboy
    crab
    crack
    craft
    craig
    crane
    crash
    crave
    crazi
    creat
    creation
    creativ
    creator
    creatur
    creature
    creatures
    credit
    creepi
    crew
    cri
    crime
    crimefight
    crimes
    crimin
    criminal
    criminals
    crisi
    crisis
    critic
    crocodil
    crook
    cross
    crossdress
    crowd
    crown
    cruel
    cruelti
    cruis
    crusad
    crush
    crystal
    cuba
    cubagoodingjr
    culmin
    cult
    cultfilm
    cultur
    culture
    cultureclash
    cun
    cup
    cure
    current
    curs
    curse
    custodi
    custom
    cut
    cuttingthecord
    cyberpunk
    cyborg
    cynic
    dad
    daili
    dakotafan
    dale
    damag
    damon
    dan
    danaykroyd
    danc
    dancer
    danger
    daniel
    danielcraig
    danielday
    danielradcliff
    danni
    danny
    dannyboyl
    dannydevito
    dannyglov
    dare
    dark
    darkcomedi
    darkest
    darkness
    darylhannah
    dash
    date
    daughter
    daughters
    dave
    davi
    david
    davidarquett
    davidcronenberg
    davidduchovni
    davidfinch
    davidgordongreen
    davidmors
    davido
    davidschwimm
    davidspad
    davidthewli
    dawn
    daxshepard
    day
    daydream
    days
    dc
    dccomic
    dea
    dead
    deadli
    deadliest
    deaf
    deal
    dealer
    dean
    death
    deathofafriend
    deathoffath
    deathpenalti
    debt
    debut
    decad
    decapit
    deceas
    deceit
    decept
    decid
    decis
    declar
    dedic
    deed
    deep
    deeper
    deepli
    defeat
    defend
    defens
    defi
    defin
    delight
    deliv
    deliveri
    delus
    demand
    demimoor
    demon
    demonicpossess
    demons
    deni
    deniserichard
    denmark
    denni
    dennisdugan
    dennishopp
    dennisquaid
    dentist
    denzelwashington
    depart
    depend
    depict
    depress
    depth
    deputi
    derang
    derek
    derekluk
    descend
    describ
    desert
    design
    desir
    desk
    desol
    despair
    desper
    despit
    destin
    destini
    destiny
    destroy
    destroyed
    destruct
    destruction
    detect
    detective
    determin
    detroit
    devast
    develop
    devic
    devil
    deviou
    devis
    devot
    diabol
    diagnos
    dialogu
    diamond
    dian
    dianekeaton
    dianekrug
    dianelan
    diari
    dick
    dictat
    did
    didn
    die
    died
    diego
    dies
    differ
    different
    difficult
    difficulti
    dig
    dilemma
    diner
    dinner
    dinosaur
    diplomat
    dire
    direct
    director
    dirt
    dirti
    dirtycop
    disabl
    disappear
    disappears
    disast
    disaster
    disastr
    discov
    discoveri
    diseas
    disease
    disfigur
    disgrac
    disguis
    dishonesti
    disillus
    disney
    disord
    dispatch
    disrupt
    distant
    district
    distrust
    disturb
    ditch
    diva
    dive
    divid
    divis
    divorc
    divorce
    dj
    dna
    doc
    doctor
    document
    documentari
    dodg
    doe
    doesn
    dog
    doll
    dollar
    dolphin
    domest
    domin
    don
    donaldpetri
    donaldsutherland
    doncheadl
    donnel
    doom
    doomsday
    door
    doorstep
    doppelgang
    dorothi
    doubl
    double
    doublecross
    doublelif
    doubt
    doug
    dougliman
    dr
    dracula
    drag
    dragon
    drama
    dramat
    draw
    drawn
    dread
    dream
    dreams
    dress
    drew
    drewbarrymor
    drift
    drifter
    drink
    drive
    driven
    driver
    drone
    drop
    drown
    drug
    drugabus
    drugaddict
    drugdeal
    druglord
    drugs
    drugsmuggl
    drugtraff
    drugus
    drunk
    drunken
    du
    dualident
    dub
    duck
    dude
    duel
    duke
    dump
    duo
    dure
    duringcreditssting
    dustinhoffman
    dutch
    duti
    dwarv
    dwaynejohnson
    dyinganddeath
    dylan
    dynam
    dynasti
    dysfunct
    dysfunctionalfamili
    dystopia
    dystopicfutur
    eager
    earli
    earlier
    earn
    earth
    earthquak
    easi
    easili
    east
    eat
    eccentr
    econom
    economi
    eddi
    eddiegriffin
    eddiemurphi
    edg
    edgar
    edharri
    editor
    educ
    edward
    edwardburn
    edwardnorton
    edwardzwick
    effect
    effort
    egg
    ego
    egypt
    egyptian
    el
    elabor
    elderli
    elect
    element
    eleph
    elev
    eliaskotea
    elijahwood
    elimin
    elisabethshu
    elit
    elite
    elizabeth
    elizabethbank
    ella
    ellenburstyn
    ellenpag
    elli
    elliot
    elliott
    els
    elud
    elus
    elv
    elvi
    embark
    embassi
    embroil
    emerg
    emigr
    emilehirsch
    emili
    emilyblunt
    emilymortim
    emilywatson
    emma
    emmarobert
    emmaston
    emmathompson
    emmawatson
    emot
    emperor
    empir
    empire
    employ
    employe
    employer
    enabl
    enchant
    encount
    encourag
    end
    endless
    endoftheworld
    endur
    enemi
    enemies
    enemy
    energi
    enforc
    engag
    engin
    england
    english
    enigmat
    enjoy
    enlist
    enorm
    enrol
    ensemblecast
    ensu
    ensues
    ensur
    entangl
    enter
    enterpris
    entertain
    enthusiast
    entir
    entiti
    environ
    environment
    epic
    epidem
    episod
    equal
    era
    eric
    ericbana
    erin
    ernest
    erotic
    erupt
    escap
    escapad
    escape
    escapefromprison
    escort
    especi
    espionag
    establish
    estat
    estrang
    etern
    ethan
    ethanhawk
    ethic
    eugenelevi
    europ
    european
    eva
    evacu
    evad
    evamend
    evanrachelwood
    eve
    event
    events
    eventu
    eventually
    everi
    everybodi
    everyday
    everyon
    everyth
    evid
    evil
    evolut
    evolv
    ewanmcgregor
    ex
    exact
    exactli
    exam
    examin
    exchang
    excit
    exclus
    execut
    exercis
    exhibit
    exil
    exist
    existence
    existenti
    exorc
    exot
    exoticisland
    expect
    expected
    expedit
    experi
    experienc
    experience
    experiment
    expert
    explain
    explod
    exploit
    explor
    explos
    expos
    extend
    extra
    extramaritalaffair
    extraordinari
    extraterrestri
    extraterrestrialtechnolog
    extrem
    extremeviol
    eye
    eyes
    fabl
    fac
    face
    facil
    fact
    faction
    factori
    fade
    fail
    fairi
    fairytal
    faith
    fake
    falcon
    fall
    fallen
    fallinginlov
    fals
    falseident
    falselyaccus
    fame
    famili
    families
    family
    familyconflict
    familyrelationship
    famkejanssen
    famou
    famous
    fan
    fanat
    fangvamp
    fans
    fantasi
    fantast
    fantasyworld
    far
    farewel
    farm
    farmer
    fascin
    fashion
    fast
    faster
    fat
    fatal
    fate
    father
    fatherdaughterrelationship
    fathersonrelationship
    favor
    favorit
    fbi
    fbiagent
    fear
    fearless
    fearsom
    featur
    fed
    feder
    feed
    feel
    feet
    fellow
    femal
    female
    femalecorps
    femalefriendship
    femalenud
    femaleprotagonist
    fend
    festiv
    festival
    fetish
    feud
    fi
    fiance
    fiancé
    fiction
    fictionalplac
    field
    fierc
    fifth
    fight
    fighter
    figur
    fil
    file
    film
    filmdirector
    filmmak
    filmproduc
    films
    final
    finale
    financ
    financi
    fine
    finish
    finn
    firemen
    firework
    firm
    firsttim
    fish
    fisherman
    fishoutofwat
    fistfight
    fit
    fix
    flame
    flash
    flashback
    flat
    fledgl
    flee
    flesh
    fli
    flight
    fling
    flint
    flirt
    flood
    florida
    florist
    flower
    flyingsauc
    focu
    focus
    foe
    foil
    foley
    folk
    follow
    food
    foot
    footag
    footbal
    footchas
    forbidden
    forbiddenlov
    forc
    force
    forces
    ford
    foreign
    forest
    forestwhitak
    forev
    forever
    forg
    forget
    forgiv
    form
    formid
    formula
    fort
    fortun
    fortune
    fortunetel
    forward
    foster
    fought
    foundfootag
    fourth
    fox
    frame
    franc
    france
    francisco
    francisfordcoppola
    frank
    frankcoraci
    frankenstein
    franki
    frankoz
    frantic
    fratern
    fraud
    freak
    fred
    freddi
    freddieprinzejr
    free
    freedom
    freeman
    freez
    french
    frequent
    fresh
    freshman
    friend
    friendli
    friends
    friendship
    frighten
    frog
    fromragstorich
    frontier
    frozen
    frustrat
    fu
    fuel
    fugit
    fulfil
    fulli
    fun
    fund
    funer
    funeral
    furiou
    futur
    future
    futurist
    fword
    ga
    gabriel
    gabrielbyrn
    gadget
    gaelgarcíabern
    gain
    galaxi
    galaxy
    gambl
    gambler
    game
    games
    gandhi
    gang
    gangs
    gangster
    gangsterboss
    gangwar
    garag
    garden
    garfield
    gari
    garrymarshal
    garygray
    garyoldman
    garysinis
    gasstat
    gather
    gave
    gay
    gayinterest
    gayrelationship
    genehackman
    gener
    general
    generation
    genet
    geniu
    genius
    gentl
    geoffreyrush
    georg
    george
    georgea
    georgeclooney
    georgemil
    georgia
    gerardbutl
    german
    germani
    germany
    getaway
    ghetto
    ghost
    giant
    gift
    gig
    girl
    girlfriend
    girls
    given
    glamor
    glass
    glennclos
    global
    globe
    glori
    goal
    god
    goe
    gold
    golden
    golf
    gone
    good
    goodvsevil
    gordon
    gore
    goreverbinski
    gorgeou
    gorilla
    gossip
    got
    gotham
    gothamc
    gotten
    govern
    government
    governor
    grace
    grad
    grade
    gradual
    graduat
    grand
    grandfath
    grandfather
    grandmoth
    grandmother
    grant
    graphic
    grasp
    grave
    great
    greater
    greatest
    greec
    greed
    greedi
    greek
    green
    greg
    gregkinnear
    gregorypeck
    grew
    grief
    griev
    griffin
    grim
    grip
    grisli
    ground
    group
    groupoffriend
    grow
    growingup
    grown
    gruesom
    gu
    guard
    guardian
    guerrilla
    guest
    guid
    guilt
    guitar
    gun
    gunfight
    gunman
    gunsling
    guru
    gusvans
    guy
    guypearc
    guyritchi
    guys
    gwynethpaltrow
    gym
    gypsi
    ha
    hack
    hacker
    hair
    haleyjoelos
    half
    hall
    halleberri
    halloween
    hallucin
    han
    hand
    handl
    hands
    handsom
    handtohandcombat
    hang
    hangov
    hannah
    hansel
    hapless
    happen
    happens
    happi
    happili
    happiness
    happy
    hara
    harass
    harbor
    hard
    harder
    harlem
    harmoni
    harold
    haroldrami
    harri
    harriet
    harrison
    harrisonford
    harrow
    harry
    harsh
    hart
    harvard
    harvey
    harveykeitel
    hasn
    hatch
    hate
    hatr
    haunt
    hauntedhous
    haven
    havoc
    hawaii
    haydenchristensen
    haze
    head
    headlin
    heal
    health
    hear
    heard
    heart
    heartattack
    heartbreak
    heat
    heather
    heathergraham
    heathledg
    heaven
    heavi
    heavili
    heavymet
    height
    heir
    heiress
    heist
    held
    helen
    helenabonhamcart
    helenhunt
    helenmirren
    helicopt
    hell
    help
    henchmen
    henri
    hero
    heroes
    heroic
    heroin
    heroism
    hi
    hidden
    hiddencamera
    hide
    high
    higher
    highest
    highland
    highli
    highschool
    highschoolsport
    highschoolstud
    highway
    hijack
    hike
    hilari
    hilaryduff
    hilaryswank
    hill
    himalaya
    hip
    hippi
    hire
    histor
    histori
    historicalfigur
    history
    hit
    hitch
    hitchhik
    hitman
    ho
    hobbit
    hockey
    hold
    hole
    holi
    holiday
    holli
    hollywood
    home
    homeinvas
    homeland
    homeless
    homelessperson
    hometown
    homicid
    homophobia
    homosexu
    honey
    honeymoon
    hong
    hongkong
    honor
    hood
    hoodlum
    hook
    hop
    hope
    hopedavi
    hopelessli
    hopper
    hord
    horribl
    horrif
    horrifi
    horror
    hors
    horsebackrid
    horserac
    hospit
    hospital
    host
    hostag
    hostage
    hostil
    hot
    hotel
    hotelroom
    hotshot
    hour
    hous
    house
    household
    housewif
    howard
    howev
    hud
    huge
    hugh
    hughgrant
    hughjackman
    human
    humananimalrelationship
    humanity
    humankind
    humans
    humili
    humor
    hundr
    hunger
    hungri
    hunt
    hunter
    hunters
    hurrican
    hurt
    husband
    hustler
    hypnosi
    hypnot
    hyster
    hyun
    ianmckellen
    ice
    icecub
    icon
    idea
    ideal
    idealist
    ident
    identity
    idol
    idyl
    ignit
    ignor
    ii
    iii
    il
    ill
    illeg
    illegaldrug
    illegalimmigr
    illegalprostitut
    illness
    illus
    illustr
    imag
    imagin
    imaginari
    imagined
    imax
    immedi
    immens
    immigr
    immort
    impact
    imperi
    imperson
    implic
    import
    imposs
    impostor
    impress
    imprison
    inadvert
    incest
    incid
    includ
    incompet
    increas
    increasingli
    incred
    independ
    independentfilm
    indi
    india
    indian
    indiana
    indianlead
    individu
    industri
    industry
    inevit
    inexplic
    infam
    infant
    infect
    infidel
    infiltr
    influenc
    inform
    inhabit
    inherit
    initi
    inject
    injur
    injuri
    inmat
    inner
    innoc
    insan
    insecur
    insid
    insight
    insist
    insomnia
    inspector
    inspir
    instal
    instant
    instantli
    instead
    instinct
    institut
    institution
    instructor
    insur
    insurg
    intellig
    intend
    intens
    intent
    intergalact
    intern
    internet
    interpret
    interrog
    interspeciesrom
    intertwin
    interview
    intim
    intoler
    intrigu
    introduc
    invad
    invas
    invent
    inventor
    invest
    investig
    investigate
    invis
    invit
    involv
    iowa
    ira
    iran
    iranian
    iraq
    iraqwar
    ireland
    irish
    iron
    islam
    island
    isn
    isol
    isra
    israel
    issu
    itali
    italian
    ivanreitman
    jack
    jackass
    jackblack
    jacki
    jackiechan
    jacknicholson
    jackson
    jacob
    jadapinkettsmith
    jade
    jail
    jake
    jakegyllenha
    jamaica
    jame
    james
    jamescaan
    jamescameron
    jamesfranco
    jamesivori
    jamesmangold
    jamesmarsden
    jamesmcavoy
    jameswan
    jameswood
    jami
    jamie
    jamiefoxx
    jamieleecurti
    jan
    jane
    janitor
    japan
    japanes
    jaredleto
    jason
    jasonbateman
    jasonbigg
    jasonle
    jasonschwartzman
    jasonsegel
    jasonstatham
    javierbardem
    jay
    jaychandrasekhar
    jayroach
    jazz
    jealousi
    jean
    jeanreno
    jedi
    jeff
    jeffbridg
    jeffdaniel
    jeffgoldblum
    jeffreywright
    jennif
    jenniferaniston
    jenniferconnelli
    jennifergarn
    jenniferjasonleigh
    jenniferlawr
    jenniferlopez
    jenniferlovehewitt
    jeremyiron
    jeremyrenn
    jerri
    jersey
    jerusalem
    jess
    jessebradford
    jesseeisenberg
    jessica
    jessicaalba
    jessicabiel
    jessicachastain
    jesu
    jesus
    jesuschrist
    jetli
    jew
    jewel
    jewish
    jigsaw
    jill
    jim
    jimbroadb
    jimcarrey
    jimcaviezel
    jimmi
    jimmy
    jin
    joanallen
    joancusack
    joaquinphoenix
    job
    jobinterview
    jock
    jodiefost
    joe
    joel
    joelcoen
    joeledgerton
    joelschumach
    joepesci
    joey
    john
    johnc
    johncarpent
    johncusack
    johngoodman
    johnhurt
    johnkrasinski
    johnleguizamo
    johnmalkovich
    johnmctiernan
    johnni
    johnny
    johnnydepp
    johnnyknoxvil
    johnsingleton
    johnson
    johntravolta
    johnturturro
    johnwoo
    join
    jon
    jonahhil
    jonathan
    jonathanfrak
    jonathanrhysmey
    jone
    jones
    jonfavreau
    jonturteltaub
    jonvoight
    jordan
    joseph
    josephgordon
    josh
    joshbrolin
    joshhartnett
    joshhutcherson
    journal
    journalist
    journey
    joy
    jr
    juan
    judelaw
    judg
    judidench
    juli
    julia
    julian
    juliannemoor
    juliarobert
    juliastil
    julie
    jump
    jungl
    jungle
    junior
    junki
    just
    justic
    justice
    justinlong
    justintimberlak
    kansa
    karat
    karen
    karlurban
    kat
    kate
    katebeckinsal
    katebosworth
    katehudson
    katemara
    katewinslet
    katherin
    katherineheigl
    kathi
    kathyb
    kati
    katieholm
    katniss
    kay
    keanureev
    keiraknightley
    kelli
    kelly
    kellypreston
    ken
    kennethbranagh
    kermit
    kevin
    kevinbacon
    kevincostn
    kevinhart
    kevinjam
    kevinklin
    kevinsmith
    kevinspacey
    key
    kgb
    khan
    kick
    kid
    kidnap
    kidnapp
    kidnapped
    kids
    kidsandfamili
    kiefersutherland
    kill
    killed
    killer
    killerrobot
    killers
    kim
    kimbasing
    kind
    king
    kingdom
    kingpin
    kirk
    kirstendunst
    kiss
    kit
    kitchen
    knew
    knife
    knight
    knit
    knock
    know
    knowledg
    known
    kong
    korea
    korean
    kowalski
    kriskristofferson
    kristenbel
    kristenstewart
    kristenwiig
    kristinscottthoma
    krueger
    kung
    kungfu
    kurt
    kurtrussel
    kyle
    la
    lab
    labor
    laboratori
    lac
    lack
    ladi
    ladies
    ladykil
    laid
    lake
    land
    landscap
    lane
    languag
    lapd
    larg
    larger
    largest
    larri
    laser
    lasergun
    lassehallström
    lasvega
    late
    later
    latest
    laugh
    launch
    laura
    lauralinney
    laurencefishburn
    lavish
    law
    lawman
    lawrenc
    lawyer
    lax
    lay
    lazi
    le
    lead
    leader
    leadership
    leagu
    learn
    leav
    led
    lee
    left
    leg
    legaci
    legacy
    legal
    legend
    legendari
    legends
    legion
    lenaheadey
    length
    leo
    leon
    leonardnimoy
    leonardodicaprio
    lesbian
    lesbianrelationship
    lesliemann
    leslienielsen
    lesson
    let
    lethal
    letter
    level
    levitt
    lewi
    lgbt
    li
    liaison
    liamneeson
    liar
    liber
    lie
    lieuten
    lievschreib
    lif
    life
    lifeanddeath
    lifelong
    lifestyl
    lifetim
    lift
    light
    lightn
    lik
    like
    lili
    limit
    lincoln
    linda
    lindsaylohan
    line
    lines
    link
    lion
    lisa
    lisakudrow
    list
    listen
    liter
    literatur
    littl
    littleboy
    live
    liveactionandanim
    lives
    living
    lizzi
    ll
    lloyd
    lo
    loan
    local
    locat
    lock
    logan
    loganlerman
    lola
    london
    londonengland
    lone
    loneli
    loner
    lonewolf
    long
    longer
    longtim
    look
    loop
    loos
    loose
    loot
    lord
    losangel
    lose
    loser
    loss
    lossofbroth
    lossofchild
    lossoffamili
    lossoffath
    lossofhusband
    lossoflov
    lossofmoth
    lossofpar
    lossofson
    lost
    lot
    lotteri
    lou
    loui
    louisiana
    lov
    lovabl
    love
    loveatfirstsight
    loveless
    lovelett
    loveofone
    lover
    loves
    lovesick
    lovetriangl
    low
    loyal
    loyalti
    lt
    luca
    luci
    luck
    lucki
    lucy
    lucyliu
    luke
    lukewilson
    lure
    lurk
    lust
    luxuri
    ma
    machin
    machine
    machinegun
    maci
    mad
    madam
    madea
    madison
    madness
    madonna
    mafia
    magazin
    maggi
    maggie
    magic
    magician
    maid
    mail
    main
    maintain
    major
    mak
    make
    malcolm
    malcolmd
    male
    malefemalerelationship
    malefriendship
    malenud
    malibu
    mall
    man
    manag
    manager
    mandymoor
    manhattan
    manhunt
    mani
    maniac
    manipul
    mankind
    mann
    manner
    mansion
    manufactur
    manvsmachin
    map
    mar
    marcforst
    march
    marcu
    mari
    maria
    mariabello
    marijuana
    marin
    marisatomei
    mark
    market
    markruffalo
    markstrong
    markwahlberg
    marlonbrando
    marlonwayan
    marri
    marriag
    marriage
    marriagecrisi
    marriagepropos
    married
    marriedcoupl
    marsh
    marshal
    martha
    marti
    martial
    martialart
    martian
    martin
    martincampbel
    martinfreeman
    martinlawr
    martinscorses
    marvelcinematicunivers
    marvelcom
    mary
    marymccormack
    mask
    maskedkil
    mass
    massacr
    massiv
    massmurd
    master
    mastermind
    masturb
    match
    mate
    materi
    mathemat
    mathematician
    matrix
    matt
    mattdamon
    mattdillon
    matter
    matteroflifeanddeath
    matthew
    matthewbroderick
    matthewlillard
    matthewmcconaughey
    maverick
    max
    maya
    mayb
    mayhem
    mayor
    maze
    mccall
    mcclane
    mean
    meant
    meanwhil
    meat
    mechan
    medal
    medallion
    media
    medic
    medicin
    mediev
    meet
    mega
    megan
    megryan
    melbrook
    melgibson
    melissa
    melvin
    member
    members
    memoir
    memori
    memoryloss
    men
    menac
    mental
    mentalil
    mentallydis
    mentor
    mephisto
    mercenari
    merchant
    merciless
    mere
    mermaid
    merylstreep
    messag
    met
    metal
    meteor
    method
    metro
    mexican
    mexicanstandoff
    mexico
    mia
    miami
    michael
    michaelangarano
    michaelbay
    michaelcain
    michaeldougla
    michaelfassbend
    michaelj
    michaelkeaton
    michaelmoor
    michaelshannon
    michaelsheen
    michel
    michellemonaghan
    michellepfeiff
    michellerodriguez
    michigan
    mickey
    mickeyrourk
    mid
    middl
    middle
    middleag
    middleeast
    midlifecrisi
    midnight
    midst
    midwest
    mighti
    mike
    mikemy
    mikenewel
    milakuni
    mild
    mile
    militari
    millajovovich
    miller
    million
    millionair
    milo
    mind
    mindcontrol
    miner
    minion
    minist
    minnesota
    minniedriv
    minor
    minut
    miracl
    miracul
    miranda
    mirror
    misadventur
    misanthrop
    mischiev
    miser
    misfit
    misguid
    mismatch
    misogynist
    miss
    missil
    missing
    missingperson
    mission
    missionari
    missionofmurd
    mississippi
    missouri
    mistak
    mistaken
    mistakenident
    mistakenli
    mistress
    mitch
    mitchel
    mix
    mob
    mobster
    mockumentari
    model
    modern
    mole
    molli
    mom
    moment
    money
    monica
    monk
    monkey
    monster
    monsters
    monstrou
    montana
    month
    months
    montreal
    moon
    moonlight
    moor
    moore
    moral
    morganfreeman
    morgu
    mormon
    morn
    morrischestnut
    mortal
    moscow
    mose
    mossad
    mostli
    motel
    mother
    motherdaughterrelationship
    motherrol
    mothersonrelationship
    motion
    motiv
    motley
    motor
    motorcycl
    mount
    mountain
    mountains
    mous
    mouth
    movement
    movi
    movie
    movieinmovi
    movies
    moviestar
    mr
    multi
    multipl
    multiplestorylin
    mumblecor
    mumblegor
    murder
    murdered
    murderer
    murderhunt
    murphi
    murray
    muse
    museum
    music
    musicband
    musician
    musket
    muslim
    mut
    mutant
    mutat
    mutini
    mutual
    mysteri
    mystery
    mystic
    myth
    mythic
    mytholog
    naiv
    nam
    nanni
    naomiwatt
    narcot
    narnia
    narrat
    nasa
    nasti
    natalieportman
    nathan
    nation
    nativ
    nativeamerican
    natur
    naturaldisast
    nature
    navi
    navig
    navys
    nazi
    nazigermani
    nba
    near
    nearbi
    nearli
    necessari
    need
    nefari
    negoti
    neighbor
    neighborhood
    neil
    neiljordan
    nelson
    nemesi
    nemesis
    neo
    nephew
    nerd
    nerdi
    netherland
    network
    nevada
    nevecampbel
    new
    newborn
    newcom
    newfound
    newident
    newjersey
    newli
    newlov
    newlyw
    newmexico
    news
    newspap
    newyear
    newyork
    newyorkc
    nialong
    nice
    nick
    nicknolt
    nicol
    nicolascag
    nicolekidman
    niec
    niece
    night
    nightclub
    nightlif
    nightmar
    nightmare
    nightshyamalan
    nightstand
    ninja
    noah
    nobl
    nobodi
    noir
    nomad
    non
    normal
    norman
    north
    northern
    nose
    note
    noth
    notic
    notori
    novel
    novelist
    nowher
    nuclear
    nuclearmissil
    nuditi
    number
    numberintitl
    numer
    nun
    nurs
    nypd
    object
    observ
    obsess
    obsession
    obstacl
    obtain
    occasion
    occult
    occup
    occupi
    occur
    ocean
    odd
    oddbal
    odds
    odyssey
    offer
    offic
    office
    officer
    offici
    ogr
    ohio
    oil
    old
    older
    oliv
    oliverston
    olivia
    oliviawild
    olymp
    olympicgam
    omar
    onc
    onli
    onlin
    ontherun
    open
    oper
    opera
    operation
    opportun
    oppos
    opposit
    oppositesattract
    oppress
    orc
    orchestr
    order
    ordinari
    oregon
    organ
    organization
    organizedcrim
    origin
    orlandobloom
    orlean
    orphan
    orphanag
    orphanage
    oscar
    oscaraward
    oscarisaac
    otherworldli
    outback
    outbreak
    outcast
    outerspac
    outlaw
    outrag
    outsid
    outwit
    overcom
    overrun
    overthrow
    overwhelm
    owenwilson
    owl
    owner
    oxford
    oz
    pacif
    pack
    packag
    pact
    pageant
    paid
    pain
    paint
    painter
    pair
    pal
    palac
    pam
    pan
    pandora
    panic
    panther
    paper
    parallel
    parallelworld
    paranoia
    paranoid
    paranorm
    parent
    parents
    parentskidsrelationship
    pari
    paris
    parisian
    park
    parker
    parodi
    parol
    parrish
    parti
    particip
    particularli
    parties
    partner
    partners
    partnership
    party
    pass
    passeng
    passion
    past
    pastor
    path
    patient
    patriarch
    patriciaarquett
    patrick
    patrickstewart
    patrickwilson
    patriot
    patrol
    paul
    paulapatton
    paulbettani
    paulgiamatti
    paulgreengrass
    paulnewman
    paulrudd
    paulw
    paulwalk
    pawn
    pay
    peac
    peace
    pearl
    peasant
    pedophilia
    penguin
    penn
    pennsylvania
    penélopecruz
    peopl
    people
    perfect
    perform
    peril
    period
    perioddrama
    perry
    persian
    person
    persuad
    peru
    pet
    pete
    peter
    peterberg
    peterjackson
    petersarsgaard
    peterseg
    petti
    phantom
    phil
    philadelphia
    philipseymourhoffman
    phillipnoyc
    philosoph
    philosophi
    phone
    photo
    photograph
    photographi
    physic
    pianist
    piano
    picard
    pick
    pictur
    picture
    piec
    piercebrosnan
    pierr
    pig
    pilot
    pimp
    pink
    pinocchio
    piperperabo
    pirat
    pistol
    pit
    pitch
    place
    plagu
    plan
    plane
    planet
    plannedmurd
    plans
    plant
    plantat
    play
    playboy
    player
    playground
    playwright
    pleasur
    pledg
    plenti
    plot
    plung
    po
    poet
    poetri
    point
    poison
    poker
    polar
    polic
    police
    policebrut
    policechas
    policeman
    policeoffic
    policeoper
    polit
    politician
    polli
    pool
    poor
    pop
    popstar
    popul
    popular
    porn
    pornographi
    port
    portal
    porter
    portrait
    portray
    pose
    posit
    possess
    possibl
    post
    posttraumaticstressdisord
    pot
    potenti
    potter
    pound
    poverti
    pow
    power
    poweroutag
    powers
    practic
    prank
    prayer
    pre
    preacher
    preciou
    predat
    predict
    prefer
    pregnanc
    pregnancyandbirth
    pregnant
    prehistor
    prejudic
    premonit
    prepar
    prequel
    presenc
    present
    presid
    president
    presidenti
    presidentialelect
    press
    pressur
    prestigi
    presum
    pretend
    pretti
    prevent
    previou
    prey
    price
    priceless
    pride
    priest
    prime
    princ
    prince
    princess
    princip
    principl
    prison
    prisonersofwar
    privat
    privatedetect
    privileg
    prize
    pro
    problem
    problems
    process
    prodigi
    produc
    product
    production
    profession
    professor
    profil
    profit
    program
    progress
    project
    prom
    promin
    promis
    promot
    prompt
    proof
    properti
    propheci
    propos
    prosecut
    prospect
    prostitut
    protect
    protest
    prove
    provid
    psychiatr
    psychiatrist
    psychic
    psycholog
    psychologist
    psychopath
    psychot
    pub
    puberti
    public
    publicist
    publish
    pull
    punish
    punk
    puppet
    puppi
    purchas
    pure
    purpos
    pursu
    pursuit
    push
    quarantin
    quarterback
    queen
    queenlatifah
    quentintarantino
    quest
    question
    quick
    quickli
    quiet
    quirki
    quit
    rabbit
    race
    raceagainsttim
    racehors
    racer
    rachaelleighcook
    rachel
    rachelmcadam
    rachelweisz
    racial
    racism
    radiat
    radic
    radio
    rag
    rage
    rageandh
    ragtag
    raid
    railroad
    rain
    rais
    ralli
    ralph
    ralphfienn
    rampag
    ran
    ranch
    rancher
    ranger
    rank
    ransom
    rape
    rapidli
    rapmus
    rapper
    rare
    rat
    rate
    ravag
    raw
    ray
    rayliotta
    raymond
    raywinston
    reach
    reaction
    read
    readi
    real
    realis
    realiti
    reality
    realiz
    realli
    realm
    reaper
    reason
    rebecca
    rebeccahal
    rebel
    rebelli
    rebellion
    reboot
    rebuild
    receiv
    recent
    reckless
    reclaim
    reclus
    reconcil
    reconnect
    record
    recount
    recov
    recreat
    recruit
    red
    redempt
    redemption
    rediscov
    redneck
    reel
    reesewitherspoon
    reflect
    refug
    refus
    regain
    regard
    regim
    regret
    regular
    reign
    reilli
    reject
    rekindl
    rel
    relat
    relationship
    relationshipproblem
    relationships
    releas
    relentless
    reli
    religi
    religion
    religionandsupernatur
    reloc
    reluct
    reluctantli
    remain
    remak
    remark
    rememb
    remind
    reminisc
    remot
    renegad
    renerusso
    rennyharlin
    renown
    rent
    renéezellweg
    repair
    repay
    replac
    report
    reporter
    repres
    repress
    reput
    request
    requir
    rescu
    rescue
    research
    resid
    resist
    resistance
    resolv
    resort
    resourc
    resources
    respect
    respond
    respons
    rest
    restaur
    restaurant
    restor
    result
    results
    resurfac
    resurrect
    retel
    retir
    retreat
    retriev
    return
    reunion
    reunit
    reveal
    revealed
    revel
    reveng
    revenge
    reverend
    reviv
    revolut
    revolutionari
    revolv
    reward
    rich
    richard
    richarddonn
    richarddreyfuss
    richardger
    richardlinklat
    rick
    ricki
    rid
    riddl
    ride
    rider
    ridicul
    ridleyscott
    rifl
    rig
    right
    rightandjustic
    riley
    ring
    riot
    rip
    ripley
    rise
    risk
    ritual
    rival
    rivalri
    river
    road
    roadmovi
    roadtrip
    roam
    roar
    rob
    robber
    robberi
    robcohen
    robert
    robertdeniro
    robertdowneyjr
    robertduval
    robertenglund
    robertredford
    robertrodriguez
    robertzemecki
    robin
    robinson
    robinwilliam
    robinwright
    robot
    robrein
    rock
    rockandrol
    rocket
    rocki
    rockstar
    roger
    rogerdonaldson
    rogermoor
    rogu
    rolandemmerich
    role
    roll
    roller
    roman
    romanc
    romance
    romant
    romanticcomedi
    rome
    romeo
    romero
    ron
    ronhoward
    ronni
    roof
    rooftop
    rooki
    room
    roommat
    root
    rosamundpik
    rosariodawson
    rose
    rosebyrn
    ross
    rough
    round
    routin
    row
    roy
    royal
    royalti
    rubi
    rugbi
    rugrat
    ruin
    rule
    ruler
    rules
    rumor
    run
    runaway
    runner
    rupertgrint
    rural
    ruralset
    rush
    russel
    russell
    russellcrow
    russia
    russian
    ruth
    ruthless
    ryan
    ryangosl
    ryanphillipp
    ryanreynold
    sabotag
    sacr
    sacrific
    sad
    sadism
    sadist
    safe
    safeti
    safety
    saga
    said
    sail
    sailor
    saint
    sale
    salesman
    salli
    salmahayek
    sam
    samantha
    samanthamorton
    sammend
    samneil
    samraimi
    samrockwel
    samuel
    samuell
    samurai
    san
    sand
    sandi
    sandrabullock
    sanfrancisco
    santa
    santaclau
    sara
    sarah
    sarahjessicapark
    sarahmichellegellar
    sarapaxton
    satan
    satellit
    satir
    satisfi
    savag
    save
    savingtheworld
    saw
    say
    sbook
    scam
    scandal
    scar
    scare
    scari
    scarlettjohansson
    scene
    schedul
    scheme
    schizophrenia
    scholarship
    school
    schoolteach
    sci
    scienc
    sciencefict
    scientif
    scientist
    score
    scotland
    scott
    scottglenn
    scottish
    scout
    scrambl
    scream
    screen
    screenplay
    screenwrit
    script
    scubadiv
    sdailylif
    sea
    seal
    sean
    seanbean
    seanconneri
    seannwilliamscott
    seanpenn
    search
    seas
    seasid
    season
    seattl
    sebastian
    seclud
    second
    secret
    secretag
    secretari
    secretident
    secretintelligenceservic
    secretli
    secretlov
    secretmiss
    secretorgan
    secrets
    secretservic
    secretsocieti
    section
    secur
    securityguard
    seduc
    seduct
    seek
    seemingli
    seen
    seiz
    sel
    self
    selfsacrific
    sell
    selmablair
    semi
    senat
    send
    senior
    sens
    sensat
    sensit
    sent
    sentenc
    seo
    separ
    sequel
    sergeant
    seri
    serial
    serialkil
    series
    seriesofmurd
    seriou
    seriously
    serv
    servant
    servic
    service
    session
    set
    seth
    sethgreen
    sethrogen
    settl
    settler
    sev
    seven
    sever
    sewer
    sex
    sexaddict
    sexi
    sexual
    sexualabus
    sexualobsess
    shadi
    shadow
    shadowi
    shake
    shaken
    shakespear
    shakespeare
    shane
    shanghai
    shannynsossamon
    shape
    share
    shark
    sharkattack
    sharonston
    sharp
    shatter
    shaw
    shawnlevi
    shelter
    shepherd
    sheriff
    shi
    shialabeouf
    shield
    shift
    ship
    shipwreck
    shock
    shoe
    shoot
    shootout
    shop
    short
    shot
    shotgun
    showdown
    shower
    shredder
    shrek
    shut
    shuttl
    shyness
    sibl
    sick
    sid
    sidekick
    sidney
    sight
    sign
    signal
    sigourneyweav
    silenc
    silent
    silentfilm
    silver
    similar
    simon
    simonpegg
    simonwest
    simpl
    simpli
    simpson
    simultan
    sin
    sinc
    sing
    singer
    singl
    single
    singlefath
    singlemoth
    singlepar
    sinist
    sir
    sister
    sisters
    sistersisterrelationship
    sit
    site
    sittingonatoilet
    situat
    situation
    size
    skateboard
    skeleton
    skeptic
    ski
    skill
    skull
    sky
    skyscrap
    slacker
    slapstick
    slasher
    slaughter
    slave
    slaveri
    slavery
    sleazi
    sleep
    sleepi
    sleepwalk
    slif
    slip
    slowli
    slum
    small
    smalltown
    smart
    smash
    smith
    smitten
    smoke
    smuggl
    smuggler
    smurf
    snake
    snatch
    sniper
    snow
    snowstorm
    soccer
    social
    societi
    society
    sociopath
    sofia
    solar
    sold
    soldi
    soldier
    soldiers
    sole
    solitari
    solomon
    solv
    somebodi
    someon
    someth
    sometim
    somewhat
    somewher
    son
    song
    songwrit
    soon
    sophi
    sorcer
    sorcerer
    sorceri
    soror
    sort
    soul
    sound
    soundtrack
    sour
    south
    southafrica
    southern
    southernusa
    soviet
    sovietunion
    space
    spacecraft
    spacemarin
    spacemiss
    spaceopera
    spaceship
    spacetravel
    spain
    span
    spanish
    spark
    speak
    speci
    special
    specialist
    spectacular
    speech
    speed
    spell
    spencer
    spend
    spent
    spi
    spider
    spike
    spikele
    spin
    spiral
    spirit
    spiritu
    spite
    spoil
    spoof
    sport
    sportsteam
    spot
    spotlight
    spread
    spring
    squad
    squar
    st
    stab
    stadium
    staff
    stage
    stak
    stake
    stalk
    stalker
    stan
    stand
    stanley
    star
    starcrossedlov
    stardom
    starfleet
    stark
    start
    state
    states
    station
    statu
    stay
    steal
    steampunk
    steel
    stella
    step
    stepfath
    stephen
    stephendorff
    stephenfrear
    stephenherek
    stephenrea
    stepmoth
    steve
    stevebuscemi
    stevecarel
    stevemartin
    steven
    stevenseag
    stevensoderbergh
    stevenspielberg
    stevezahn
    stewardess
    stewart
    stick
    stir
    stock
    stockbrok
    stolen
    stone
    stoneag
    stoner
    stop
    stopmot
    store
    stori
    stories
    storm
    story
    straight
    strain
    strand
    strang
    stranger
    strateg
    strategi
    stray
    street
    streetgang
    streets
    strength
    stress
    stretch
    strict
    strike
    strikes
    strip
    stripclub
    stripper
    strive
    strong
    struggl
    stu
    stuart
    stuck
    student
    students
    studi
    studio
    stumbl
    stun
    stunt
    stupid
    style
    su
    sub
    subject
    submachinegun
    submarin
    subsequ
    suburban
    suburbia
    subway
    succeed
    success
    successful
    successor
    sudden
    suddenli
    sue
    suffer
    suggest
    suicid
    suicide
    suicideattempt
    suit
    suitor
    sullivan
    summer
    summon
    sun
    sunglass
    super
    supercomput
    superhero
    superhuman
    superhumanstrength
    superman
    supermarket
    supernatur
    supernaturalpow
    superpow
    superstar
    supervillain
    supervisor
    suppli
    support
    suppos
    suppress
    suppressedpast
    sure
    surf
    surfac
    surface
    surfer
    surgeon
    surgeri
    surpris
    surreal
    surround
    surveil
    surviv
    survival
    survive
    survivor
    survivors
    susan
    susansarandon
    suspect
    suspens
    suspici
    suspicion
    swallow
    sweep
    sweet
    sweetheart
    swept
    swimmingpool
    swing
    switch
    sword
    swordandsorceri
    swordfight
    swordplay
    sylvesterstallon
    symbol
    tabl
    tactic
    tag
    tail
    tak
    taken
    tale
    talent
    talk
    talkinganim
    tall
    tank
    tap
    tape
    target
    task
    tast
    tattoo
    taxi
    taxidriv
    taylor
    teach
    teacher
    team
    tear
    tech
    technolog
    technology
    ted
    teen
    teenag
    teenagecrush
    teenagegirl
    teenager
    teenagers
    teenagesexu
    teencomedi
    teenmovi
    teens
    telekinesi
    telepathi
    teleport
    televis
    tell
    tens
    tension
    term
    termin
    terminalil
    terrencehoward
    terri
    terribl
    terrier
    terrifi
    territori
    terror
    terrorist
    terrygilliam
    tess
    test
    tested
    texa
    texas
    th
    thailand
    thandienewton
    thank
    thanksgiv
    theater
    theatremilieu
    theft
    theme
    themselv
    theori
    therapist
    thi
    thief
    thiev
    thing
    things
    think
    thirst
    thirti
    thoma
    thomashadenchurch
    thomasjan
    thompson
    thought
    thousand
    threat
    threaten
    thrill
    thriller
    throne
    throw
    thrown
    thrust
    thu
    thug
    thwart
    tibet
    tick
    ticket
    tie
    tiger
    tildaswinton
    tim
    timallen
    timburton
    time
    timeless
    times
    timetravel
    timothyolyph
    timrobbin
    timroth
    timstori
    tini
    tire
    titan
    titl
    tobeymaguir
    today
    todd
    toddphillip
    togeth
    tokyo
    told
    tom
    tomcruis
    tomhank
    tomhardi
    tommi
    tommyleejon
    tomshadyac
    tomwilkinson
    toni
    tonicollett
    tonyscott
    took
    tool
    tooth
    torment
    torn
    tornado
    toronto
    tortur
    total
    totalitarian
    touch
    tough
    toughest
    tour
    tourist
    tournament
    tower
    town
    toxic
    toy
    toycomestolif
    trace
    track
    trade
    trader
    tradit
    traffic
    traffick
    tragedi
    tragedy
    tragic
    trail
    train
    trainer
    traitor
    transfer
    transform
    transit
    transplant
    transport
    trap
    trauma
    traumat
    travel
    treacher
    treasur
    treasurehunt
    treat
    treatment
    tree
    trek
    tri
    trial
    triangl
    triangle
    tribe
    trick
    trigger
    trio
    trip
    triumph
    troop
    tropic
    troubl
    trouble
    troy
    truck
    trucker
    true
    truli
    trust
    truth
    tsunami
    tunnel
    turbul
    turmoil
    turn
    turned
    turner
    turtl
    tv
    tvmovi
    tvshow
    tvstation
    twenti
    twin
    twinbroth
    twist
    tycoon
    tyler
    tylerperri
    type
    typic
    tyrann
    téaleoni
    ufo
    ugli
    ultim
    ultra
    umathurman
    unabl
    unawar
    unbeknownst
    uncl
    uncle
    uncomfort
    unconvent
    uncov
    undead
    undercov
    undercoverag
    undercovercop
    underdog
    undergo
    underground
    understand
    undertak
    underwat
    underworld
    unemploy
    unexpect
    unexpectedli
    unexplain
    unfaith
    unfold
    unforgett
    unfortun
    unfortunately
    unhappi
    unimagin
    union
    uniqu
    unit
    univers
    universe
    university
    unknown
    unleash
    unless
    unlik
    unlikelyfriendship
    unlock
    unorthodox
    unpreced
    unpredict
    unravel
    unrequitedlov
    unsimulatedsex
    unsoci
    unstabl
    unstopp
    unsuspect
    unusu
    unveil
    unwit
    unwittingli
    upcom
    upper
    upperclass
    upris
    upset
    upsid
    uptight
    urban
    urg
    usa
    usapresid
    use
    usual
    utah
    vacat
    vacation
    val
    valentine
    valkilm
    valley
    valu
    valuabl
    vampir
    vampire
    vampires
    van
    vandal
    vanessa
    vanessahudgen
    vanish
    varieti
    variou
    vast
    vatican
    vault
    vega
    vegas
    vegetarian
    veng
    vengeanc
    vengeance
    venic
    ventur
    verafarmiga
    verg
    veri
    version
    verylittledialogu
    vet
    veteran
    vice
    viciou
    victim
    victims
    victor
    victori
    victoria
    victorian
    victory
    video
    videogam
    vienna
    vietnam
    vietnamveteran
    vietnamwar
    view
    viewer
    viggomortensen
    vigilant
    vike
    villag
    village
    villain
    vincent
    vincevaughn
    vindiesel
    vineyard
    violenc
    violence
    violent
    virgin
    virginia
    virginiamadsen
    virginity
    virtual
    virtualr
    viru
    vision
    visit
    visitor
    visual
    vlad
    voic
    voice
    volatil
    volcano
    volunt
    vomit
    von
    voodoo
    vorort
    vow
    voyag
    voyeur
    wa
    wacki
    wade
    wage
    wager
    wai
    wait
    waiter
    waitress
    wake
    walk
    walker
    wall
    wallet
    wallstreet
    walt
    walter
    wander
    wang
    want
    war
    warcrim
    ward
    warden
    warehous
    warhead
    warlock
    warlord
    warm
    warn
    warondrug
    warren
    warrenbeatti
    warrior
    wars
    warship
    warveteran
    wash
    washington
    washingtond
    wasn
    wast
    wasteland
    watch
    water
    wave
    way
    ways
    weak
    wealth
    wealthi
    weapon
    weapons
    wear
    weather
    web
    wed
    wedding
    week
    weekend
    weird
    welcom
    went
    werewolf
    wesanderson
    wesbentley
    wescraven
    wesley
    wesleysnip
    west
    western
    whale
    whatev
    wheelchair
    whi
    whip
    whisk
    white
    whitehous
    whoopigoldberg
    wick
    widow
    wield
    wif
    wife
    wifehusbandrelationship
    wild
    wilder
    wilderness
    wildli
    willemdafo
    willferrel
    willi
    william
    williamh
    williamhurt
    williamshatn
    willpatton
    willsmith
    wilson
    win
    wind
    window
    wine
    wing
    winner
    winonaryd
    winter
    wipe
    wise
    wish
    wit
    witch
    witchhunt
    wizard
    wolf
    wolfgangpetersen
    woman
    womandirector
    womanrel
    women
    won
    wonder
    woo
    wood
    woodi
    woods
    woodyallen
    woodyharrelson
    word
    work
    workahol
    worker
    workers
    working
    world
    worlds
    worldwari
    worldwarii
    worldwid
    worri
    wors
    worse
    worship
    worst
    worth
    wound
    wreak
    wrestl
    wrestler
    wretch
    wright
    write
    writer
    written
    wrong
    wwii
    wyom
    xenophobia
    yacht
    yakuza
    yard
    year
    yearn
    years
    yellow
    york
    yorker
    young
    youngadult
    youngboy
    younger
    youngest
    youngster
    youth
    yuppi
    zacefron
    zachgalifianaki
    zacksnyd
    zealand
    zebra
    zeu
    zhangziyi
    zoe
    zoesaldana
    zombi
    zombies
    zone
    zoo
    zooeydeschanel
    


```python
#get similarity
from sklearn.metrics.pairwise import cosine_similarity
```


```python
similarity = cosine_similarity(vectors)
```


```python
similarity[1]    #1 becoz its similar to itself
```




    array([0.08346223, 1.        , 0.06063391, ..., 0.02378257, 0.        ,
           0.02615329])




```python
#sort the similarity array now
sorted(list(enumerate(similarity[0])),reverse = True , key = lambda x: x[1])[1: 6] # sorted list
#enumerate helps to make it tuples like movie at 0 index similarity with 1 index so on...
# thn convert into list
#lambda is used so that it sortes from 1 index instead of 0 so that 0 place remains same as uk 0 index is place of movie itself
#took only top 5 movies which are similar
```




    [(1216, 0.2867696673382022),
     (2409, 0.26901379342448517),
     (3730, 0.2605130246476754),
     (507, 0.255608593705383),
     (539, 0.25038669783359574)]




```python
#main function

def recommend(movie):
    movie_index = new_dt[new_dt['title']== movie].index[0]
    distances = similarity[movie_index]
    movies_list = sorted(list(enumerate(distances)),reverse = True , key = lambda x: x[1])[1: 6] 
    
    for i in movies_list:
        print(new_dt.iloc[i[0]].title)
        #print(i[0])   #0 becoz v want movie_id c above output

```


```python
recommend('Avatar')
```

    Aliens vs Predator: Requiem
    Aliens
    Falcon Rising
    Independence Day
    Titan A.E.
    


```python
# now if we want to fetch names instead of movie_id
new_dt.iloc[1216].title
# now add this to above code
```




    'Aliens vs Predator: Requiem'




```python
import pickle
```


```python
pickle.dump(new_dt,open('movies.pkl','wb'))
```


```python
#get titles to fed in front end thing
new_dt['title'].values
```




    array(['Avatar', "Pirates of the Caribbean: At World's End", 'Spectre',
           ..., 'Signed, Sealed, Delivered', 'Shanghai Calling',
           'My Date with Drew'], dtype=object)




```python
#it may show error so rather senfing dataset we will send dictionary
pickle.dump(new_dt.to_dict(),open('movie_dict.pkl','wb'))
```


```python
pickle.dump(similarity,open('similarity.pkl','wb'))
```


```python

```
